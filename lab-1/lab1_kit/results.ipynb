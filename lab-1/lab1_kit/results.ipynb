{
 "cells": [
  {
   "cell_type": "markdown",
   "metadata": {},
   "source": [
    "# Answers - OC Lab 1"
   ]
  },
  {
   "cell_type": "markdown",
   "metadata": {},
   "source": [
    "## 2.1"
   ]
  },
  {
   "cell_type": "markdown",
   "metadata": {},
   "source": [
    "The critical sequence of accesses is the \"MB processing\" section, which ranges from lines 240 to 281 in the source code."
   ]
  },
  {
   "cell_type": "markdown",
   "metadata": {},
   "source": [
    "## 2.3"
   ]
  },
  {
   "cell_type": "markdown",
   "metadata": {},
   "source": [
    "#### 2.3.1.1"
   ]
  },
  {
   "cell_type": "markdown",
   "metadata": {},
   "source": [
    "Compulsory cache misses are misses that occur when a block is accessed for the first time - they're unavoidable. Conflict misses occur when two blocks are mapped to the same cache line: since they can't both occupy the same line, one of them will be evicted. Capacity misses occur when the cache is full and a new block is accessed: the cache must evict a block to make room for the new one."
   ]
  },
  {
   "cell_type": "markdown",
   "metadata": {},
   "source": [
    "#### 2.3.1.2"
   ]
  },
  {
   "cell_type": "markdown",
   "metadata": {},
   "source": [
    "There are two main policies to deal with writes in memory hierarchies. With write-through, we opt to write information both in cache and the main memory whenever there's a write, so that the information is always matching. With write-back, we opt to write information only in cache, writing to the main memory only when the cache line is evicted. The latter is generally more efficient, as accessing the main memory is very time consuming, but it is considerably more complex to implement. Furthermore, both schemes can make use of a write buffer, which acts as a queue of writes to be performed in the main memory, allowing the processor to continue its execution immediately (unless the buffer is already full, in which case it must stall) and therefore mitigate write or block replacement (for write-through and write-back, respectively) penalties."
   ]
  },
  {
   "cell_type": "markdown",
   "metadata": {},
   "source": [
    "### 2.3.2"
   ]
  },
  {
   "cell_type": "markdown",
   "metadata": {},
   "source": [
    "a)"
   ]
  },
  {
   "cell_type": "markdown",
   "metadata": {},
   "source": [
    "1 MB = 2^20 B, 128 KB = 2^7 B ⨯ 2^10 B = 2^17 B\n",
    "\n",
    "(0.01 ⨯ 2^17) / 2^20 = 0.00125 € <-- Frame memory\n",
    "Remaining for L1: 0.02€ - 0.00125€ = 0.01875€\n",
    "\n",
    "(0.01875 ⨯ 2^20) / 10 = 1966.08 B €\n",
    "\n",
    "As it has to be a power of 2:\n",
    "L1_size = 2^MAX <=> MAX = floor(log2(1966.08)) <=> MAX = 10 <=> L1_size = 2^10 B <=> L1_size = 1 KB"
   ]
  },
  {
   "cell_type": "markdown",
   "metadata": {},
   "source": [
    "b)"
   ]
  },
  {
   "cell_type": "markdown",
   "metadata": {},
   "source": [
    "| BLOCK SIZE/CACHE SIZE | 256B   | 512B   | 1024B  |\n",
    "| --------------------- | ------ | ------ | ------ |\n",
    "| 8B                    | 0.1960 | 0.1247 | 0.0305 |\n",
    "| 16B                   | 0.1829 | 0.1184 | 0.0363 |\n",
    "| 32B                   | 0.2288 | 0.1492 | 0.0770 |\n",
    "| 64B                   | 0.3340 | 0.2021 | 0.1181 |"
   ]
  },
  {
   "cell_type": "markdown",
   "metadata": {},
   "source": [
    "c)"
   ]
  },
  {
   "cell_type": "markdown",
   "metadata": {},
   "source": [
    "![Plots](../assets/plots-2.3.2.png)"
   ]
  },
  {
   "cell_type": "markdown",
   "metadata": {},
   "source": [
    "d)"
   ]
  },
  {
   "cell_type": "markdown",
   "metadata": {},
   "source": [
    "L1_config_1:\n",
    "\n",
    "- Cache Size: 1024B\n",
    "- Block Size: 8B\n",
    "- Miss Rate: 0.0305\n",
    "- Price: .0110156250€\n",
    "- Cost = Price x Miss Rate: .0003359765€\n",
    "\n",
    "L1_config_2:\n",
    "\n",
    "- Cache Size: 1024B\n",
    "- Block Size: 16B\n",
    "- Miss Rate: 0.0363\n",
    "- Price: .0110156250€\n",
    "- Cost = Price x Miss Rate: .0003998671€"
   ]
  },
  {
   "cell_type": "markdown",
   "metadata": {},
   "source": [
    "### 2.3.3"
   ]
  },
  {
   "cell_type": "markdown",
   "metadata": {},
   "source": [
    "a)"
   ]
  },
  {
   "cell_type": "markdown",
   "metadata": {},
   "source": [
    "| MISS RATE/CONFIGS | C1, 1 way | C1, 2 ways | C1, 4 ways | C1, 8 ways | C2, 1 way | C2, 2 ways | C2, 4 ways | C2, 8 ways |\n",
    "| ----------------- | --------- | ---------- | ---------- | ---------- | --------- | ---------- | ---------- | ---------- |\n",
    "| Compulsory        | .0254 | .0216  | .2859  | .2876  | .0106 | .0106  | .2444  | .2413  |\n",
    "| Capacity          | .0561 | .0488  | .7059  | .7080  | .0303 | .0329  | .7556  | .7587  |\n",
    "| Conflict          | .9186 | .9295  | .0082  | .0040  | .9591 | .9565  | 0      | 0      |\n",
    "| Total             | .0305 | .0357  | .0027  | .0027  | .0363 | .0364  | .0016  | .0016  |"
   ]
  },
  {
   "cell_type": "markdown",
   "metadata": {},
   "source": [
    "b)"
   ]
  },
  {
   "cell_type": "markdown",
   "metadata": {},
   "source": [
    "![Plots](../assets/plots-2.3.3.png)"
   ]
  },
  {
   "cell_type": "markdown",
   "metadata": {},
   "source": [
    "c)"
   ]
  },
  {
   "cell_type": "markdown",
   "metadata": {},
   "source": [
    "For both cache configurations, having 4 or 8 ways is clearly the best option, since the lowest total miss rates (very close to 0%) happen with these number of ways. Both configurations show a very similar behavior overall, which can be easily seen just by glancing at the plots: one could argue, still, that the best configuration should probably be the one with a block size of 16 Bytes (the second one) and 4 ways, since it shows the lowest total miss rate. For a 16B block size, miss rates for 4 and 8 ways are very similar, therefore 4 ways should be used as it is much simpler to implement."
   ]
  },
  {
   "cell_type": "markdown",
   "metadata": {},
   "source": [
    "d)"
   ]
  },
  {
   "cell_type": "markdown",
   "metadata": {},
   "source": [
    "AMAT formula: hit time + miss rate \\* miss penalty  \n",
    "According to Table 1:\n",
    "\n",
    "- t(L1, H) = (L1) hit time = 2 ⨯ (0.7 + 0.35 ⨯ log2(#ways))ns\n",
    "- t(L1, M) = (SDRAM) miss penalty = going to memory = 140ns\n",
    "\n",
    "Therefore, AMAT = 2*(0.7 + 0.35*log2(#ways)) + p(L1, M) \\* 140"
   ]
  },
  {
   "cell_type": "markdown",
   "metadata": {},
   "source": [
    "e)"
   ]
  },
  {
   "cell_type": "markdown",
   "metadata": {},
   "source": [
    "| THINGIES/CONFIGS | C1, 1 way    | C1, 2 ways   | C1, 4 ways   | C1, 8 ways   | C2, 1 way    | C2, 2 ways   | C2, 4 ways   | C2, 8 ways   |\n",
    "|------------------|--------------|--------------|--------------|--------------|--------------|--------------|--------------|--------------|\n",
    "| MISS RATE        | 0.0305       | 0.0357       | 0.0027       | 0.0027       | 0.0363       | 0.0364       | 0.0016       | 0.0016       |\n",
    "| AMAT             | 5.6700000000 | 7.0979999996 | 3.1779999998 | 3.8779999998 | 6.4820000000 | 7.1959999996 | 3.0239999998 | 3.7239999998 |\n",
    "| PRICE            | .0110156250  | .0110156250  | .0110156250  | .0110156250  | .0110156250  | .0110156250  | .0110156250  | .0110156250  |\n",
    "| COST FUNCTION    | .0624585937  | .0781889062  | .0350076562  | .0427185937  | .0714032812  | .0792684374  | .0333112499  | .0410221874  |"
   ]
  },
  {
   "cell_type": "markdown",
   "metadata": {},
   "source": [
    "f)"
   ]
  },
  {
   "cell_type": "markdown",
   "metadata": {},
   "source": [
    "The best choice is the one minimizing the given cost function: in this case, the second configuration (block size of 16 Bytes) with 4 ways looks like the best option (matching the answer in 2.3.3 c)). Just as has been noted before, configurations with 4 or 8 ways are clearly superior in comparison with their peers: the mean access time ends up being considerably smaller with these configurations, which ends up influencing the cost itself."
   ]
  },
  {
   "cell_type": "markdown",
   "metadata": {},
   "source": [
    "### 2.3.4"
   ]
  },
  {
   "cell_type": "markdown",
   "metadata": {},
   "source": [
    "The best cache writing policies are a write-through write policy, combined with a write not-allocate allocating policy.\n",
    "\n",
    "Since the amount of writes is much smaller than the amount of reads, the penalties related to writing to memory have a reduced impact, while also making sure that the data is always correctly replicated between cache and memory, removing unnecessary complexity from the implementation.\n",
    "The chosen allocation policy is write not-allocate, precisely because of the amount of writes being smaller: allocating blocks for writing purposes, while those blocks wouldn't necessarily be read afterward, could lead to more read misses, which would end up leading to more reads to memory (and more time spent overall). The trade-off does not seem to be worth it to implement a write-allocate policy."
   ]
  },
  {
   "cell_type": "markdown",
   "metadata": {},
   "source": [
    "### 2.3.5"
   ]
  },
  {
   "cell_type": "markdown",
   "metadata": {},
   "source": [
    "- Cache Dimension: 1024B = 1KB\n",
    "- Block Size: 16B\n",
    "- Associativity: 4 ways\n",
    "- Write-Policy: Write-through, Write not-allocate\n",
    "- Miss-Rate: .00160000\n",
    "- AMAT: 3.0239999998ns\n",
    "- Price: .0110156250€\n",
    "- Cost: .0333112499€"
   ]
  },
  {
   "cell_type": "markdown",
   "metadata": {},
   "source": [
    "## 2.4"
   ]
  },
  {
   "cell_type": "markdown",
   "metadata": {},
   "source": [
    "### 2.4.1"
   ]
  },
  {
   "cell_type": "markdown",
   "metadata": {},
   "source": [
    "a)"
   ]
  },
  {
   "cell_type": "markdown",
   "metadata": {},
   "source": [
    "(Considering the cost of the L1 cache from 2.3.5, .0110156€)\n",
    "\n",
    "0.02 >= 0.0110156 + l2_cost  \n",
    "l2_cost = 0.02 - 0.0110156  \n",
    "l2_cost = 0.0089844\n",
    "\n",
    "Since the cost of the L2 cache is given by 0.4€/MB, we can calculate the max size of the L2 cache as:\n",
    "\n",
    "0.4 - 1MB  \n",
    "0.0089844 - xMB  \n",
    "x = 0.0089844/0.4 = 0.022461MB = 23.000064KB\n",
    "\n",
    "As it has to be a power of 2: floor(log2(23.000064 ⨯ 2^10)) = 14\n",
    "\n",
    "2^14 B = 2^4 ⨯ 2^10 B = 2^4 KB = 16KB\n",
    "\n",
    "The L2 price ends up being:\n",
    "\n",
    "0.4 - 2^20 B  \n",
    "x - 2^14 B\n",
    "\n",
    "x = 0.4 / 2^6 = 0.00625€\n",
    "\n",
    "The price ends up being 0.0110156 + 0.00625 = 0.0172656€"
   ]
  },
  {
   "cell_type": "markdown",
   "metadata": {},
   "source": [
    "b)"
   ]
  },
  {
   "cell_type": "markdown",
   "metadata": {},
   "source": [
    "|                   | BLOCK SIZE | MISS RATE |\n",
    "|-------------------|------------|-----------|\n",
    "| 1 x L1_BLOCK_SIZE | 16         | 0.4773    |\n",
    "| 2 x L1_BLOCK_SIZE | 32         | 0.2386    |\n",
    "| 4 x L1_BLOCK_SIZE | 64         | 0.1193    |\n",
    "| 8 x L1_BLOCK_SIZE | 128        | 0.0598    |"
   ]
  },
  {
   "cell_type": "markdown",
   "metadata": {},
   "source": [
    "c)"
   ]
  },
  {
   "cell_type": "markdown",
   "metadata": {},
   "source": [
    "![Plots](../assets/plots-2.4.1.png)"
   ]
  },
  {
   "cell_type": "markdown",
   "metadata": {},
   "source": [
    "d)"
   ]
  },
  {
   "cell_type": "markdown",
   "metadata": {},
   "source": [
    "The block size doesn't influence the time penalty associating with going to the memory. Therefore, considering the given criteria, we should always pick the block size that minimizes the miss rate, which is 128 Bytes (with a miss rate of 0.0598)."
   ]
  },
  {
   "cell_type": "markdown",
   "metadata": {},
   "source": [
    "### 2.4.2"
   ]
  },
  {
   "cell_type": "markdown",
   "metadata": {},
   "source": [
    "a)"
   ]
  },
  {
   "cell_type": "markdown",
   "metadata": {},
   "source": [
    "|            | MISS RATE |\n",
    "|------------|-----------|\n",
    "| COMPULSORY | 0.3741    |\n",
    "| CAPACITY   | 0.6259    |\n",
    "| CONFLICT   | 0.0000    |\n",
    "| TOTAL      | 0.0598\t |"
   ]
  },
  {
   "cell_type": "markdown",
   "metadata": {},
   "source": [
    "b)"
   ]
  },
  {
   "cell_type": "markdown",
   "metadata": {},
   "source": [
    "![Plots](../assets/plots-2.4.2.png)"
   ]
  },
  {
   "cell_type": "markdown",
   "metadata": {},
   "source": [
    "c)"
   ]
  },
  {
   "cell_type": "markdown",
   "metadata": {},
   "source": [
    "AMAT formula, considering two cache levels and SDRAM:\n",
    "\n",
    "AMAT = L1 hit time + L1 miss rate \\* going to L2 miss penalty + (L1 miss rate \\* L2 miss rate) \\* going memory miss penalty\n",
    "\n",
    "Written in terms of the given parameters:\n",
    "\n",
    "AMAT = t(L1, H) + p(L1, M) \\* t(L1, M) + p(L1, M) \\* p(L2, M) \\* t(L2, M)\n",
    "\n",
    "---\n",
    "\n",
    "AMAT = T(L1, H) + P(L1, M) x T(L1, M)\n",
    "\n",
    "AMAT = T(L1, H) + P(L1, M) x [T(L2, H) + P(L2, M) x T(L2, M)]\n",
    "\n",
    "AMAT = 2 x [0.7 + 0.35 x log2(#ways)] + P(L1, M) x [10 x [0.7 + 0.55 * log2(#ways)] + P(L2, M) x 140]"
   ]
  },
  {
   "cell_type": "markdown",
   "metadata": {},
   "source": [
    "d)"
   ]
  },
  {
   "cell_type": "markdown",
   "metadata": {},
   "source": [
    "|           |              |\n",
    "|-----------|--------------|\n",
    "| MISS RATE | .0598    |\n",
    "| AMAT      | 2.8245951998 |\n",
    "| PRICE     | 0.0172656    |\n",
    "| COST      | .0487683308  |"
   ]
  },
  {
   "cell_type": "markdown",
   "metadata": {},
   "source": [
    "## 2.5"
   ]
  },
  {
   "cell_type": "markdown",
   "metadata": {},
   "source": [
    "a)"
   ]
  },
  {
   "cell_type": "markdown",
   "metadata": {},
   "source": [
    "|                     | CACHE L1   | CACHE L2 | FRAME MEMORY |\n",
    "|---------------------|------------|----------|--------------|\n",
    "| Dimension (B)       | 1024       | 1024\\*16  | 1024\\*128     |\n",
    "| Block Size (B)      | 16         | 128      | -            |\n",
    "| Associativity       | 4          | 1        | -            |\n",
    "| Write-Policy        | Write-Through, Write Not Allocate       | Write-Through, Write Not Allocate     | -            |\n",
    "| Local Miss-Rate (%) | 0.16%      | 5.98%    | -            |\n",
    "| Price (€)           | 0.0097656€ | 0.00625€ | 0.00125€     |\n",
    "\n",
    "- Global Miss Rate (%): 0.009568%\n",
    "- Global Access time (ns): 2.8245951998ns \n",
    "- Total Price (€): 0.0172656€\n",
    "- Cost function (ns x €): 0.0487683308"
   ]
  }
 ],
 "metadata": {
  "kernelspec": {
   "display_name": "Python 3.10.7 64-bit",
   "language": "python",
   "name": "python3"
  },
  "language_info": {
   "codemirror_mode": {
    "name": "ipython",
    "version": 3
   },
   "file_extension": ".py",
   "mimetype": "text/x-python",
   "name": "python",
   "nbconvert_exporter": "python",
   "pygments_lexer": "ipython3",
   "version": "3.10.7"
  },
  "orig_nbformat": 4,
  "vscode": {
   "interpreter": {
    "hash": "e7370f93d1d0cde622a1f8e1c04877d8463912d04d973331ad4851f04de6915a"
   }
  }
 },
 "nbformat": 4,
 "nbformat_minor": 2
}
