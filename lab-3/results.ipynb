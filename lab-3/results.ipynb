{
 "cells": [
  {
   "cell_type": "markdown",
   "metadata": {},
   "source": [
    "# Answers - OC Lab 3\n"
   ]
  },
  {
   "cell_type": "code",
   "execution_count": 20,
   "metadata": {},
   "outputs": [],
   "source": [
    "# Utility functions\n",
    "\n",
    "from IPython.display import Markdown, display\n",
    "\n",
    "\n",
    "def show_code(path):\n",
    "    with open(path) as f:\n",
    "        display(Markdown(\"```\" + f.read() + \"```\"))\n",
    "\n",
    "\n",
    "base_value = None\n",
    "\n",
    "\n",
    "def calc_speedup(new_label, new_value):\n",
    "    global base_value\n",
    "\n",
    "    if base_value is None:\n",
    "        raise ValueError(\"Base value is not set!\")\n",
    "\n",
    "    speedup = base_value / new_value\n",
    "\n",
    "    display(\n",
    "        Markdown(\n",
    "            \"\"\"$\\\\text{SpeedUp} = \\\\frac{\\\\text{CPU}_{{\\\\text{Time}}_{\\\\text{Base}}}}{\\\\text{CPU}_{{\\\\text{Time}}_{\\\\text{%s}}}} = \\\\frac{\\\\text{\\\\# Cycles}_{\\\\text{Base}}}{\\\\text{\\\\# Cycles}_{\\\\text{%s}}} = \\\\frac{%d}{%d} \\\\approx %.3f$\n",
    "\n",
    "(simulated CPU Rate is consistent)\"\"\"\n",
    "            % (new_label, new_label, base_value, new_value, speedup)\n",
    "        )\n",
    "    )\n"
   ]
  },
  {
   "cell_type": "markdown",
   "metadata": {},
   "source": [
    "## 2.1\n"
   ]
  },
  {
   "cell_type": "markdown",
   "metadata": {},
   "source": [
    "### e)\n"
   ]
  },
  {
   "cell_type": "markdown",
   "metadata": {},
   "source": [
    "| **$\\text{Clock Cycles}$** |     | **$\\text{Instructions}$** |     | **$\\text{Average CPI}$** |     |\n",
    "| ------------------------- | --- | ------------------------- | --- | ------------------------ | --- |\n"
   ]
  },
  {
   "cell_type": "markdown",
   "metadata": {},
   "source": [
    "![2.1](assets/2.1.png)\n"
   ]
  },
  {
   "cell_type": "markdown",
   "metadata": {},
   "source": [
    "### f)\n"
   ]
  },
  {
   "cell_type": "markdown",
   "metadata": {},
   "source": [
    "| **$\\text{Clock Cycles}$** | $174$   |\n",
    "| ------------------------- | ------- |\n",
    "| **$\\text{Instructions}$** | $61$    |\n",
    "| **$\\text{Average CPI}$**  | $2.852$ |\n",
    "\n",
    "Stalls\n",
    "| **$\\text{Data}$** | $101$ |\n",
    "| ----------------------------------|--------|\n",
    "| **$\\text{Structural}$** | $0$ |\n",
    "| **$\\text{Branch Taken}$** | $8$ |\n"
   ]
  },
  {
   "cell_type": "code",
   "execution_count": 22,
   "metadata": {},
   "outputs": [],
   "source": [
    "base_value = 174  # clock cycles\n"
   ]
  },
  {
   "cell_type": "markdown",
   "metadata": {},
   "source": [
    "### g)\n"
   ]
  },
  {
   "cell_type": "markdown",
   "metadata": {},
   "source": [
    "By analyzing the program execution, it is clear that at the end of each loop iteration, the simulator loads into the pipeline the `sw $9, mult($0)` instruction (which is the one immediately following the `bne $6, $5, loop` instruction and the first one outside the loop), performing an Instruction Fetch before the branch is resolved and it is known that the loop will be repeated, causing the `sw` to be nullified and a new instruction (the `lw $12, 0($1)` at the beginning of the loop) to be fetched. The exception is, of course, after the last iteration, when the `sw` instruction is indeed the one supposed to run next and is allowed to proceed, therefore having no stalls occur.\n",
    "As such, it can be concluded that the simulator adopts a Predict Branch Not Taken policy, as it always assumes that the branch will not be taken and starts executing instructions following the `bne` instruction.\n"
   ]
  },
  {
   "cell_type": "markdown",
   "metadata": {},
   "source": [
    "## 2.2\n"
   ]
  },
  {
   "cell_type": "markdown",
   "metadata": {},
   "source": [
    "### b)\n"
   ]
  },
  {
   "cell_type": "markdown",
   "metadata": {},
   "source": [
    "![2.2](assets/2.2.png)\n"
   ]
  },
  {
   "cell_type": "markdown",
   "metadata": {},
   "source": [
    "### c)\n"
   ]
  },
  {
   "cell_type": "markdown",
   "metadata": {},
   "source": [
    "| **$\\text{Clock Cycles}$** | $136$   |\n",
    "| ------------------------- | ------- |\n",
    "| **$\\text{Instructions}$** | $61$    |\n",
    "| **$\\text{Average CPI}$**  | $2.230$ |\n",
    "\n",
    "Stalls\n",
    "| **$\\text{Data}$** | $63$ |\n",
    "| ----------------------------------|--------|\n",
    "| **$\\text{Structural}$** | $9$ |\n",
    "| **$\\text{Branch Taken}$** | $8$ |\n"
   ]
  },
  {
   "cell_type": "markdown",
   "metadata": {},
   "source": [
    "### d)\n"
   ]
  },
  {
   "cell_type": "code",
   "execution_count": 23,
   "metadata": {},
   "outputs": [
    {
     "data": {
      "text/markdown": [
       "$\\text{SpeedUp} = \\frac{\\text{CPU}_{{\\text{Time}}_{\\text{Base}}}}{\\text{CPU}_{{\\text{Time}}_{\\text{Forwarding}}}} = \\frac{\\text{\\# Cycles}_{\\text{Base}}}{\\text{\\# Cycles}_{\\text{Forwarding}}} = \\frac{174}{136} \\approx 1.279$\n",
       "\n",
       "(simulated CPU Rate is consistent)"
      ],
      "text/plain": [
       "<IPython.core.display.Markdown object>"
      ]
     },
     "metadata": {},
     "output_type": "display_data"
    }
   ],
   "source": [
    "calc_speedup(\"Forwarding\", 136)\n"
   ]
  },
  {
   "cell_type": "markdown",
   "metadata": {},
   "source": [
    "## 2.3\n"
   ]
  },
  {
   "cell_type": "markdown",
   "metadata": {},
   "source": [
    "### a)\n"
   ]
  },
  {
   "cell_type": "code",
   "execution_count": 14,
   "metadata": {},
   "outputs": [
    {
     "data": {
      "text/markdown": [
       "```                .data\n",
       "A:              .word   1, 3, 1, 6, 4\n",
       "                .word   2, 4, 3, 9, 5\n",
       "mult:   .word   0\n",
       "\n",
       "        .code\n",
       "        daddi   $1, $0, A      ; *A[0]\n",
       "        daddi   $5, $0, 1      ; $5 = 1 ;; i    \n",
       "        daddi   $6, $0, 10     ; $6 = N ;; N = 10\n",
       "        lw      $9, 0($1)      ; $9 = A[0]  ;; mult\n",
       "        daddi   $1, $1, 8      ;\n",
       "\n",
       "loop:   lw      $12, 0($1)     ; $12 = A[i]\n",
       "        daddi   $5, $5, 1      ; i++\n",
       "        dmul    $12, $12, $9   ; $12 = $12*$9 ;; $12 = A[i]*mult\n",
       "        daddi   $1, $1, 8      ; \n",
       "        dadd    $9, $9, $12    ; $9 = $9 + $12  ;; mult = mult + A[i]*mult\n",
       "\n",
       "        bne     $6, $5, loop   ; Exit loop if i == N\n",
       "        \n",
       "        sw      $9, mult($0)   ; Store result\n",
       "        halt\n",
       "\n",
       ";; Expected result: mult = f6180 (hex), 1008000 (dec)\n",
       "\n",
       "```"
      ],
      "text/plain": [
       "<IPython.core.display.Markdown object>"
      ]
     },
     "metadata": {},
     "output_type": "display_data"
    }
   ],
   "source": [
    "show_code(\"lab3_kit/2.3prog.s\")\n"
   ]
  },
  {
   "cell_type": "markdown",
   "metadata": {},
   "source": [
    "### b)\n"
   ]
  },
  {
   "cell_type": "markdown",
   "metadata": {},
   "source": [
    "![2.3](assets/2.3.png)\n"
   ]
  },
  {
   "cell_type": "markdown",
   "metadata": {},
   "source": [
    "### c)\n"
   ]
  },
  {
   "cell_type": "markdown",
   "metadata": {},
   "source": [
    "| **$\\text{Clock Cycles}$** | $118$   |\n",
    "| ------------------------- | ------- |\n",
    "| **$\\text{Instructions}$** | $61$    |\n",
    "| **$\\text{Average CPI}$**  | $1.934$ |\n",
    "\n",
    "Stalls\n",
    "| **$\\text{Data}$** | $36$ |\n",
    "| ----------------------------------|--------|\n",
    "| **$\\text{Structural}$** | $9$ |\n",
    "| **$\\text{Branch Taken}$** | $8$ |\n"
   ]
  },
  {
   "cell_type": "markdown",
   "metadata": {},
   "source": [
    "### d)\n"
   ]
  },
  {
   "cell_type": "code",
   "execution_count": 24,
   "metadata": {},
   "outputs": [
    {
     "data": {
      "text/markdown": [
       "$\\text{SpeedUp} = \\frac{\\text{CPU}_{{\\text{Time}}_{\\text{Base}}}}{\\text{CPU}_{{\\text{Time}}_{\\text{Forwarding}}}} = \\frac{\\text{\\# Cycles}_{\\text{Base}}}{\\text{\\# Cycles}_{\\text{Forwarding}}} = \\frac{174}{118} \\approx 1.475$\n",
       "\n",
       "(simulated CPU Rate is consistent)"
      ],
      "text/plain": [
       "<IPython.core.display.Markdown object>"
      ]
     },
     "metadata": {},
     "output_type": "display_data"
    }
   ],
   "source": [
    "calc_speedup(\"MinHaz\", 118)\n"
   ]
  },
  {
   "cell_type": "markdown",
   "metadata": {},
   "source": [
    "## 2.4\n"
   ]
  },
  {
   "cell_type": "markdown",
   "metadata": {},
   "source": [
    "### a)\n"
   ]
  },
  {
   "cell_type": "code",
   "execution_count": 12,
   "metadata": {},
   "outputs": [
    {
     "data": {
      "text/markdown": [
       "```                .data\n",
       "A:              .word   1, 3, 1, 6, 4\n",
       "                .word   2, 4, 3, 9, 5\n",
       "mult:   .word   0\n",
       "\n",
       "        .code\n",
       "        daddi   $1, $0, A      ; *A[0]\n",
       "        daddi   $5, $0, 1      ; $5 = 1 ;; i    \n",
       "        daddi   $6, $0, 9      ; $6 = N - 1 ;; N = 10\n",
       "        lw      $9, 0($1)      ; $9 = A[0]  ;; mult\n",
       "        lw      $12, 8($1)     ; $12 = A[i]\n",
       "\n",
       "loop:   dmul    $12, $12, $9   ; $12 = A[i]*mult\n",
       "        daddi   $5, $5, 2      ; i += 2\n",
       "        lw      $22, 16($1)    ; $12 = A[i+1]\n",
       "        dadd    $9, $9, $12    ; mult = mult + A[i]*mult\n",
       "\n",
       "        dmul    $22, $22, $9   ; $22 = A[i+1]*mult\n",
       "        daddi   $1, $1, 16     ; \n",
       "        lw      $12, 8($1)     ; $12 = A[i+2]\n",
       "        dadd    $9, $9, $22    ; mult = mult + A[i+1]*mult\n",
       "        bne     $6, $5, loop   ; Exit loop if i == (N-1)\n",
       "\n",
       "        ; 9 iters - missing 1\n",
       "        dmul    $12, $12, $9   ; $12 = A[i]*mult\n",
       "        dadd    $9, $9, $12    ; mult = mult + A[i]*mult\n",
       "        \n",
       "        sw      $9, mult($0)   ; Store result\n",
       "        halt\n",
       "\n",
       ";; Expected result: mult = f6180 (hex), 1008000 (dec)\n",
       "\n",
       "```"
      ],
      "text/plain": [
       "<IPython.core.display.Markdown object>"
      ]
     },
     "metadata": {},
     "output_type": "display_data"
    }
   ],
   "source": [
    "show_code(\"lab3_kit/2.4prog.s\")\n"
   ]
  },
  {
   "cell_type": "markdown",
   "metadata": {},
   "source": [
    "### b)\n"
   ]
  },
  {
   "cell_type": "markdown",
   "metadata": {},
   "source": [
    "![2.4](assets/2.4.png)\n"
   ]
  },
  {
   "cell_type": "markdown",
   "metadata": {},
   "source": [
    "### c)\n"
   ]
  },
  {
   "cell_type": "markdown",
   "metadata": {},
   "source": [
    "| **$\\text{Clock Cycles}$** | $91$    |\n",
    "| ------------------------- | ------- |\n",
    "| **$\\text{Instructions}$** | $45$    |\n",
    "| **$\\text{Average CPI}$**  | $2.022$ |\n",
    "\n",
    "Stalls\n",
    "| **$\\text{Data}$** | $48$ |\n",
    "| ----------------------------------|--------|\n",
    "| **$\\text{Structural}$** | $9$ |\n",
    "| **$\\text{Branch Taken}$** | $3$ |\n"
   ]
  },
  {
   "cell_type": "markdown",
   "metadata": {},
   "source": [
    "### d)\n"
   ]
  },
  {
   "cell_type": "code",
   "execution_count": 27,
   "metadata": {},
   "outputs": [
    {
     "data": {
      "text/markdown": [
       "$\\text{SpeedUp} = \\frac{\\text{CPU}_{{\\text{Time}}_{\\text{Base}}}}{\\text{CPU}_{{\\text{Time}}_{\\text{LUnrolling}}}} = \\frac{\\text{\\# Cycles}_{\\text{Base}}}{\\text{\\# Cycles}_{\\text{LUnrolling}}} = \\frac{174}{91} \\approx 1.912$\n",
       "\n",
       "(simulated CPU Rate is consistent)"
      ],
      "text/plain": [
       "<IPython.core.display.Markdown object>"
      ]
     },
     "metadata": {},
     "output_type": "display_data"
    }
   ],
   "source": [
    "calc_speedup(\"LUnrolling\", 91)\n"
   ]
  },
  {
   "cell_type": "markdown",
   "metadata": {},
   "source": [
    "## 2.5\n"
   ]
  },
  {
   "cell_type": "markdown",
   "metadata": {},
   "source": [
    "### a)\n"
   ]
  },
  {
   "cell_type": "code",
   "execution_count": 15,
   "metadata": {},
   "outputs": [
    {
     "data": {
      "text/markdown": [
       "```                .data\n",
       "A:              .word   1, 3, 1, 6, 4\n",
       "                .word   2, 4, 3, 9, 5\n",
       "mult:   .word   0\n",
       "\n",
       "        .code\n",
       "        daddi   $1, $0, A      ; *A[0]\n",
       "        daddi   $5, $0, 1      ; $5 = 1 ;; i\n",
       "        daddi   $6, $0, 10     ; $6 = N ;; N = 10\n",
       "        lw      $9, 0($1)      ; $9 = A[0]  ;; mult\n",
       "        daddi   $1, $1, 8      ;\n",
       "\n",
       "loop:   lw      $12, 0($1)     ; $12 = A[i]\n",
       "        daddi   $5, $5, 1      ; i++\n",
       "        dmul    $12, $12, $9   ; $12 = $12*$9 ;; $12 = A[i]*mult\n",
       "        daddi   $1, $1, 8      ;\n",
       "\n",
       "        bne     $6, $5, loop   ; Exit loop if i == N\n",
       "        dadd    $9, $9, $12    ; $9 = $9 + $12  ;; mult = mult + A[i]*mult\n",
       "\n",
       "        sw      $9, mult($0)   ; Store result\n",
       "        halt\n",
       "\n",
       ";; Expected result: mult = f6180 (hex), 1008000 (dec)```"
      ],
      "text/plain": [
       "<IPython.core.display.Markdown object>"
      ]
     },
     "metadata": {},
     "output_type": "display_data"
    }
   ],
   "source": [
    "show_code(\"lab3_kit/2.5prog.s\")\n"
   ]
  },
  {
   "cell_type": "markdown",
   "metadata": {},
   "source": [
    "### b)\n"
   ]
  },
  {
   "cell_type": "markdown",
   "metadata": {},
   "source": [
    "![2.5](assets/2.5.png)\n"
   ]
  },
  {
   "cell_type": "markdown",
   "metadata": {},
   "source": [
    "### d)\n"
   ]
  },
  {
   "cell_type": "markdown",
   "metadata": {},
   "source": [
    "| **$\\text{Clock Cycles}$** | $101$   |\n",
    "| ------------------------- | ------- |\n",
    "| **$\\text{Instructions}$** | $61$    |\n",
    "| **$\\text{Average CPI}$**  | $1.656$ |\n",
    "\n",
    "Stalls\n",
    "| **$\\text{Data}$** | $27$ |\n",
    "| ----------------------------------|--------|\n",
    "| **$\\text{Structural}$** | $9$ |\n",
    "| **$\\text{Branch Taken}$** | $0$ |\n"
   ]
  },
  {
   "cell_type": "markdown",
   "metadata": {},
   "source": [
    "### e)\n"
   ]
  },
  {
   "cell_type": "code",
   "execution_count": 26,
   "metadata": {},
   "outputs": [
    {
     "data": {
      "text/markdown": [
       "$\\text{SpeedUp} = \\frac{\\text{CPU}_{{\\text{Time}}_{\\text{Base}}}}{\\text{CPU}_{{\\text{Time}}_{\\text{BDelay}}}} = \\frac{\\text{\\# Cycles}_{\\text{Base}}}{\\text{\\# Cycles}_{\\text{BDelay}}} = \\frac{174}{101} \\approx 1.723$\n",
       "\n",
       "(simulated CPU Rate is consistent)"
      ],
      "text/plain": [
       "<IPython.core.display.Markdown object>"
      ]
     },
     "metadata": {},
     "output_type": "display_data"
    }
   ],
   "source": [
    "calc_speedup(\"BDelay\", 101)\n"
   ]
  }
 ],
 "metadata": {
  "kernelspec": {
   "display_name": "Python 3.10.7 64-bit",
   "language": "python",
   "name": "python3"
  },
  "language_info": {
   "codemirror_mode": {
    "name": "ipython",
    "version": 3
   },
   "file_extension": ".py",
   "mimetype": "text/x-python",
   "name": "python",
   "nbconvert_exporter": "python",
   "pygments_lexer": "ipython3",
   "version": "3.10.8"
  },
  "orig_nbformat": 4,
  "vscode": {
   "interpreter": {
    "hash": "31f2aee4e71d21fbe5cf8b01ff0e069b9275f58929596ceb00d14d90e3e16cd6"
   }
  }
 },
 "nbformat": 4,
 "nbformat_minor": 2
}
