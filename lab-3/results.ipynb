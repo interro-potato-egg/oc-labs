{
 "cells": [
  {
   "cell_type": "markdown",
   "metadata": {},
   "source": [
    "# Answers - OC Lab 3\n"
   ]
  },
  {
   "cell_type": "markdown",
   "metadata": {},
   "source": [
    "## 2.1\n",
    "\n"
   ]
  },
  {
   "cell_type": "markdown",
   "metadata": {},
   "source": [
    "### f)\n"
   ]
  },
  {
   "cell_type": "markdown",
   "metadata": {},
   "source": [
    "| **$\\text{Clock Cycles}$**         |  $174$ |\n",
    "| ----------------------------------|--------|\n",
    "| **$\\text{Instructions}$**         |  $61$  |\n",
    "| **$\\text{Average CPI}$**          | $2.852$|\n",
    "\n",
    "Stalls\n",
    "| **$\\text{Data}$**                 |  $101$  |\n",
    "| ----------------------------------|--------|\n",
    "| **$\\text{Structural}$**           |   $0$  |\n",
    "| **$\\text{Branch Taken}$**         |   $8$  |"
   ]
  },
  {
   "cell_type": "markdown",
   "metadata": {},
   "source": [
    "### g)"
   ]
  },
  {
   "cell_type": "markdown",
   "metadata": {},
   "source": [
    "## 2.2\n"
   ]
  },
  {
   "cell_type": "markdown",
   "metadata": {},
   "source": [
    "### c)\n"
   ]
  },
  {
   "cell_type": "markdown",
   "metadata": {},
   "source": [
    "| **$\\text{Clock Cycles}$**         |  $136$ |\n",
    "| ----------------------------------|--------|\n",
    "| **$\\text{Instructions}$**         |  $61$  |\n",
    "| **$\\text{Average CPI}$**          | $2.230$|\n",
    "\n",
    "Stalls\n",
    "| **$\\text{Data}$**                 |  $63$  |\n",
    "| ----------------------------------|--------|\n",
    "| **$\\text{Structural}$**           |   $9$  |\n",
    "| **$\\text{Branch Taken}$**         |   $8$  |"
   ]
  },
  {
   "cell_type": "markdown",
   "metadata": {},
   "source": [
    "### d)"
   ]
  },
  {
   "cell_type": "markdown",
   "metadata": {},
   "source": [
    "## 2.3\n"
   ]
  },
  {
   "cell_type": "markdown",
   "metadata": {},
   "source": [
    "### a)\n",
    "There might be a better approach.\n",
    "```\n",
    "                .data\n",
    "A:              .word   1, 3, 1, 6, 4\n",
    "                .word   2, 4, 3, 9, 5\n",
    "mult:   .word   0\n",
    "\n",
    "        .code\n",
    "        daddi   $1, $0, A      ; *A[0]\n",
    "        daddi   $5, $0, 1      ; $5 = 1 ;; i    \n",
    "        daddi   $6, $0, 10     ; $6 = N ;; N = 10\n",
    "        lw      $9, 0($1)      ; $9 = A[0]  ;; mult\n",
    "        daddi   $1, $1, 8      ;\n",
    "\n",
    "loop:   lw      $12, 0($1)     ; $12 = A[i]\n",
    "        daddi   $5, $5, 1      ; i++\n",
    "        dmul    $12, $12, $9   ; $12 = $12*$9 ;; $12 = A[i]*mult\n",
    "\tdaddi   $1, $1, 8      ;\n",
    "        dadd    $9, $9, $12    ; $9 = $9 + $12  ;; mult = mult + A[i]*mult\n",
    " \n",
    "        bne     $6, $5, loop   ; Exit loop if i == N\n",
    "        \n",
    "        sw      $9, mult($0)   ; Store result\n",
    "        halt\n",
    "\n",
    ";; Expected result: mult = f6180 (hex), 1008000 (dec)\n",
    "\n",
    "```"
   ]
  },
  {
   "cell_type": "markdown",
   "metadata": {},
   "source": [
    "### c)\n"
   ]
  },
  {
   "cell_type": "markdown",
   "metadata": {},
   "source": [
    "| **$\\text{Clock Cycles}$**         |  $118$ |\n",
    "| ----------------------------------|--------|\n",
    "| **$\\text{Instructions}$**         |  $61$  |\n",
    "| **$\\text{Average CPI}$**          | $1.934$|\n",
    "\n",
    "Stalls\n",
    "| **$\\text{Data}$**                 |  $36$  |\n",
    "| ----------------------------------|--------|\n",
    "| **$\\text{Structural}$**           |   $9$  |\n",
    "| **$\\text{Branch Taken}$**         |   $8$  |"
   ]
  },
  {
   "cell_type": "markdown",
   "metadata": {},
   "source": [
    "### d)"
   ]
  }
 ],
 "metadata": {
  "kernelspec": {
   "display_name": "Python 3.9.1 64-bit",
   "language": "python",
   "name": "python3"
  },
  "language_info": {
   "codemirror_mode": {
    "name": "ipython",
    "version": 3
   },
   "file_extension": ".py",
   "mimetype": "text/x-python",
   "name": "python",
   "nbconvert_exporter": "python",
   "pygments_lexer": "ipython3",
   "version": "3.9.1"
  },
  "orig_nbformat": 4,
  "vscode": {
   "interpreter": {
    "hash": "a87c0c351317882431803002b6d939c70d40a3b637c07a3a3716cafdbc56a578"
   }
  }
 },
 "nbformat": 4,
 "nbformat_minor": 2
}
