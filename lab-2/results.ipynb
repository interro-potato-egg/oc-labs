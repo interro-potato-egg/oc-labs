{
 "cells": [
  {
   "cell_type": "markdown",
   "metadata": {},
   "source": [
    "# Answers - OC Lab 2"
   ]
  },
  {
   "cell_type": "markdown",
   "metadata": {},
   "source": [
    "## 2.1"
   ]
  },
  {
   "cell_type": "code",
   "execution_count": 5,
   "metadata": {},
   "outputs": [
    {
     "data": {
      "text/html": [
       "<table>\n",
       "<thead>\n",
       "<tr><th>Array Size  </th><th style=\"text-align: right;\">  Avg Elapsed Time (s)</th><th style=\"text-align: right;\">  Avg Access Time (ns)</th></tr>\n",
       "</thead>\n",
       "<tbody>\n",
       "<tr><td>4 KiB       </td><td style=\"text-align: right;\">            0.00134333</td><td style=\"text-align: right;\">               3.27936</td></tr>\n",
       "<tr><td>8 KiB       </td><td style=\"text-align: right;\">            0.00197331</td><td style=\"text-align: right;\">               2.40878</td></tr>\n",
       "<tr><td>16 KiB      </td><td style=\"text-align: right;\">            0.00390036</td><td style=\"text-align: right;\">               2.38066</td></tr>\n",
       "<tr><td>32 KiB      </td><td style=\"text-align: right;\">            0.00777907</td><td style=\"text-align: right;\">               2.37396</td></tr>\n",
       "<tr><td>64 KiB      </td><td style=\"text-align: right;\">            0.0185227 </td><td style=\"text-align: right;\">               2.82638</td></tr>\n",
       "<tr><td>128 KiB     </td><td style=\"text-align: right;\">            0.0411921 </td><td style=\"text-align: right;\">               3.14271</td></tr>\n",
       "<tr><td>256 KiB     </td><td style=\"text-align: right;\">            0.0912179 </td><td style=\"text-align: right;\">               3.47969</td></tr>\n",
       "<tr><td>512 KiB     </td><td style=\"text-align: right;\">            0.190617  </td><td style=\"text-align: right;\">               3.63574</td></tr>\n",
       "<tr><td>1024 KiB    </td><td style=\"text-align: right;\">            0.379658  </td><td style=\"text-align: right;\">               3.6207 </td></tr>\n",
       "<tr><td>2048 KiB    </td><td style=\"text-align: right;\">            0.733716  </td><td style=\"text-align: right;\">               3.49863</td></tr>\n",
       "<tr><td>4096 KiB    </td><td style=\"text-align: right;\">            1.8985    </td><td style=\"text-align: right;\">               4.52637</td></tr>\n",
       "</tbody>\n",
       "</table>"
      ],
      "text/plain": [
       "'<table>\\n<thead>\\n<tr><th>Array Size  </th><th style=\"text-align: right;\">  Avg Elapsed Time (s)</th><th style=\"text-align: right;\">  Avg Access Time (ns)</th></tr>\\n</thead>\\n<tbody>\\n<tr><td>4 KiB       </td><td style=\"text-align: right;\">            0.00134333</td><td style=\"text-align: right;\">               3.27936</td></tr>\\n<tr><td>8 KiB       </td><td style=\"text-align: right;\">            0.00197331</td><td style=\"text-align: right;\">               2.40878</td></tr>\\n<tr><td>16 KiB      </td><td style=\"text-align: right;\">            0.00390036</td><td style=\"text-align: right;\">               2.38066</td></tr>\\n<tr><td>32 KiB      </td><td style=\"text-align: right;\">            0.00777907</td><td style=\"text-align: right;\">               2.37396</td></tr>\\n<tr><td>64 KiB      </td><td style=\"text-align: right;\">            0.0185227 </td><td style=\"text-align: right;\">               2.82638</td></tr>\\n<tr><td>128 KiB     </td><td style=\"text-align: right;\">            0.0411921 </td><td style=\"text-align: right;\">               3.14271</td></tr>\\n<tr><td>256 KiB     </td><td style=\"text-align: right;\">            0.0912179 </td><td style=\"text-align: right;\">               3.47969</td></tr>\\n<tr><td>512 KiB     </td><td style=\"text-align: right;\">            0.190617  </td><td style=\"text-align: right;\">               3.63574</td></tr>\\n<tr><td>1024 KiB    </td><td style=\"text-align: right;\">            0.379658  </td><td style=\"text-align: right;\">               3.6207 </td></tr>\\n<tr><td>2048 KiB    </td><td style=\"text-align: right;\">            0.733716  </td><td style=\"text-align: right;\">               3.49863</td></tr>\\n<tr><td>4096 KiB    </td><td style=\"text-align: right;\">            1.8985    </td><td style=\"text-align: right;\">               4.52637</td></tr>\\n</tbody>\\n</table>'"
      ]
     },
     "execution_count": 5,
     "metadata": {},
     "output_type": "execute_result"
    }
   ],
   "source": [
    "from typing import List\n",
    "from tabulate import tabulate\n",
    "\n",
    "table_rows: List[List[str | float]] = [[\"Array Size\", \"Avg Elapsed Time (s)\", \"Avg Access Time (ns)\"]]\n",
    "\n",
    "with open(\"lab2_kit/spark/spark.log\") as f:\n",
    "    next(f)  # ignore header\n",
    "\n",
    "    array_size = None\n",
    "    elapsed_times = []\n",
    "    access_times = []\n",
    "\n",
    "    def close_block():\n",
    "        global array_size, elapsed_times, access_times\n",
    "\n",
    "        if array_size is None:\n",
    "            return\n",
    "\n",
    "        avg_elapsed_time = sum(elapsed_times) / len(elapsed_times)\n",
    "        avg_access_time = sum(access_times) / len(access_times)\n",
    "\n",
    "        table_rows.append([array_size, avg_elapsed_time, avg_access_time])\n",
    "\n",
    "        array_size = None\n",
    "        elapsed_times = []\n",
    "        access_times = []\n",
    "\n",
    "    for line in f:\n",
    "        if line.startswith(\"[LOG]:\"):\n",
    "            close_block()\n",
    "            array_size = line[line.find(\"size \") + len(\"size \") :]\n",
    "        elif array_size is not None:\n",
    "            _, _, elapsed, _, access, _ = line.split(\"\\t\")\n",
    "            elapsed_times.append(float(elapsed))\n",
    "            access_times.append(float(access))\n",
    "        else:\n",
    "            print(\"Error: malformed logfile\")\n",
    "            exit(1)\n",
    "    \n",
    "    close_block()\n",
    "\n",
    "tabulate(table_rows, headers=\"firstrow\", tablefmt=\"html\")\n"
   ]
  },
  {
   "cell_type": "markdown",
   "metadata": {},
   "source": [
    "| **Array Size**         | 4 KiB | 8 KiB | 16 KiB | 32 KiB | 64 KiB | 128 KiB |\n",
    "| ---------------------- | ----- | ----- | ------ | ------ | ------ | ------- |\n",
    "| **t2-t1**              |       |       |        |        |        |         |\n",
    "| **# accesses a[i]**    |       |       |        |        |        |         |\n",
    "| **# mean access time** |       |       |        |        |        |         |\n"
   ]
  },
  {
   "cell_type": "markdown",
   "metadata": {},
   "source": [
    "lab7p2"
   ]
  },
  {
   "cell_type": "markdown",
   "metadata": {},
   "source": [
    "## 2.2"
   ]
  },
  {
   "cell_type": "markdown",
   "metadata": {},
   "source": [
    "The cache size is 64KB because from there the reading and writing times increase in a disproportional manner - there is a clear spike between 64KB and 128KB, due to an increase in capacity misses."
   ]
  },
  {
   "cell_type": "markdown",
   "metadata": {},
   "source": [
    "## 2.3"
   ]
  },
  {
   "cell_type": "markdown",
   "metadata": {},
   "source": [
    "texto aqui"
   ]
  },
  {
   "cell_type": "markdown",
   "metadata": {},
   "source": [
    "## 2.4"
   ]
  },
  {
   "cell_type": "markdown",
   "metadata": {},
   "source": [
    "texto aqui"
   ]
  },
  {
   "cell_type": "markdown",
   "metadata": {},
   "source": [
    "## 3.1"
   ]
  },
  {
   "cell_type": "markdown",
   "metadata": {},
   "source": [
    "### 3.1.1"
   ]
  },
  {
   "cell_type": "markdown",
   "metadata": {},
   "source": [
    "#### a)"
   ]
  },
  {
   "cell_type": "markdown",
   "metadata": {},
   "source": [
    "texto aqui"
   ]
  },
  {
   "cell_type": "markdown",
   "metadata": {},
   "source": [
    "#### b)"
   ]
  },
  {
   "cell_type": "markdown",
   "metadata": {},
   "source": [
    "tabelas e plot aqui"
   ]
  },
  {
   "cell_type": "markdown",
   "metadata": {},
   "source": [
    "#### c)"
   ]
  },
  {
   "cell_type": "markdown",
   "metadata": {},
   "source": [
    "##### L1 size:"
   ]
  },
  {
   "cell_type": "markdown",
   "metadata": {},
   "source": [
    "texto aqui"
   ]
  },
  {
   "cell_type": "markdown",
   "metadata": {},
   "source": [
    "##### Block size:"
   ]
  },
  {
   "cell_type": "markdown",
   "metadata": {},
   "source": [
    "texto aqui"
   ]
  },
  {
   "cell_type": "markdown",
   "metadata": {},
   "source": [
    "##### Associativity set size:"
   ]
  },
  {
   "cell_type": "markdown",
   "metadata": {},
   "source": [
    "texto aqui"
   ]
  },
  {
   "cell_type": "markdown",
   "metadata": {},
   "source": [
    "### 3.1.2"
   ]
  },
  {
   "cell_type": "markdown",
   "metadata": {},
   "source": [
    "#### a)"
   ]
  },
  {
   "cell_type": "markdown",
   "metadata": {},
   "source": [
    "texto aqui"
   ]
  },
  {
   "cell_type": "markdown",
   "metadata": {},
   "source": [
    "#### b)"
   ]
  },
  {
   "cell_type": "markdown",
   "metadata": {},
   "source": [
    "plot aqui"
   ]
  },
  {
   "cell_type": "markdown",
   "metadata": {},
   "source": [
    "#### c)"
   ]
  },
  {
   "cell_type": "markdown",
   "metadata": {},
   "source": [
    "##### L2 size:"
   ]
  },
  {
   "cell_type": "markdown",
   "metadata": {},
   "source": [
    "texto aqui"
   ]
  },
  {
   "cell_type": "markdown",
   "metadata": {},
   "source": [
    "##### Block size:"
   ]
  },
  {
   "cell_type": "markdown",
   "metadata": {},
   "source": [
    "texto aqui"
   ]
  },
  {
   "cell_type": "markdown",
   "metadata": {},
   "source": [
    "##### Associativity set size:"
   ]
  },
  {
   "cell_type": "markdown",
   "metadata": {},
   "source": [
    "texto aqui"
   ]
  },
  {
   "cell_type": "markdown",
   "metadata": {},
   "source": [
    "## 3.2"
   ]
  },
  {
   "cell_type": "markdown",
   "metadata": {},
   "source": [
    "### 3.2.1"
   ]
  },
  {
   "cell_type": "markdown",
   "metadata": {},
   "source": [
    "#### a)"
   ]
  },
  {
   "cell_type": "markdown",
   "metadata": {},
   "source": [
    "texto aqui"
   ]
  },
  {
   "cell_type": "markdown",
   "metadata": {},
   "source": [
    "#### b)"
   ]
  },
  {
   "cell_type": "markdown",
   "metadata": {},
   "source": [
    "| **Total number of L1 data cache misses**                |     | **⨯ 10^6**  |\n",
    "| ------------------------------------------------------- | --- | ----------- |\n",
    "| **Total number of load / store instructions completed** |     | **⨯ 10^6**  |\n",
    "| **Total number of clock cycles**                        |     | **⨯ 10^6**  |\n",
    "| **Elapsed time**                                        |     | **seconds** |\n"
   ]
  },
  {
   "cell_type": "markdown",
   "metadata": {},
   "source": [
    "#### c)"
   ]
  },
  {
   "cell_type": "markdown",
   "metadata": {},
   "source": [
    "texto aqui"
   ]
  },
  {
   "cell_type": "markdown",
   "metadata": {},
   "source": [
    "### 3.2.2"
   ]
  },
  {
   "cell_type": "markdown",
   "metadata": {},
   "source": [
    "#### a)"
   ]
  },
  {
   "cell_type": "markdown",
   "metadata": {},
   "source": [
    "| **Total number of L1 data cache misses**                |     | **⨯ 10^6**  |\n",
    "| ------------------------------------------------------- | --- | ----------- |\n",
    "| **Total number of load / store instructions completed** |     | **⨯ 10^6**  |\n",
    "| **Total number of clock cycles**                        |     | **⨯ 10^6**  |\n",
    "| **Elapsed time**                                        |     | **seconds** |"
   ]
  },
  {
   "cell_type": "markdown",
   "metadata": {},
   "source": [
    "#### b)"
   ]
  },
  {
   "cell_type": "markdown",
   "metadata": {},
   "source": [
    "texto aqui"
   ]
  },
  {
   "cell_type": "markdown",
   "metadata": {},
   "source": [
    "#### c)"
   ]
  },
  {
   "cell_type": "markdown",
   "metadata": {},
   "source": [
    "| **Total number of L1 data cache misses**                |     | **⨯ 10^6**  |\n",
    "| ------------------------------------------------------- | --- | ----------- |\n",
    "| **Total number of load / store instructions completed** |     | **⨯ 10^6**  |\n",
    "| **Total number of clock cycles**                        |     | **⨯ 10^6**  |\n",
    "| **Elapsed time**                                        |     | **seconds** |\n"
   ]
  },
  {
   "cell_type": "markdown",
   "metadata": {},
   "source": [
    "texto aqui"
   ]
  },
  {
   "cell_type": "markdown",
   "metadata": {},
   "source": [
    "#### d)"
   ]
  },
  {
   "cell_type": "markdown",
   "metadata": {},
   "source": [
    "| **$\\Delta\\text{HitRate} = \\text{HitRate}_{\\text{mm2}} - \\text{HitRate}_{\\text{mm1}}$**         |     |\n",
    "| ---------------------------------------------------------------------------------------------- | --- |\n",
    "| **$\\text{Speedup(\\#Clocks)} = \\frac{\\text{Clocks}_{\\text{mm1}}}{\\text{Clocks}_{\\text{mm2}}}$** |     |\n",
    "| **$\\text{Speedup(Time)} = \\frac{\\text{Time}_{\\text{mm1}}}{\\text{Time}_{\\text{mm2}}}$**         |     |\n"
   ]
  },
  {
   "cell_type": "markdown",
   "metadata": {},
   "source": [
    "texto aqui (<-- o comentário da tabela)"
   ]
  },
  {
   "cell_type": "markdown",
   "metadata": {},
   "source": [
    "### 3.2.3"
   ]
  },
  {
   "cell_type": "markdown",
   "metadata": {},
   "source": [
    "#### a)"
   ]
  },
  {
   "cell_type": "markdown",
   "metadata": {},
   "source": [
    "texto aqui"
   ]
  },
  {
   "cell_type": "markdown",
   "metadata": {},
   "source": [
    "#### b)"
   ]
  },
  {
   "cell_type": "markdown",
   "metadata": {},
   "source": [
    "| **Total number of L1 data cache misses**                |     | **⨯ 10^6**  |\n",
    "| ------------------------------------------------------- | --- | ----------- |\n",
    "| **Total number of load / store instructions completed** |     | **⨯ 10^6**  |\n",
    "| **Total number of clock cycles**                        |     | **⨯ 10^6**  |\n",
    "| **Elapsed time**                                        |     | **seconds** |\n"
   ]
  },
  {
   "cell_type": "markdown",
   "metadata": {},
   "source": [
    "#### c)"
   ]
  },
  {
   "cell_type": "markdown",
   "metadata": {},
   "source": [
    "texto aqui"
   ]
  },
  {
   "cell_type": "markdown",
   "metadata": {},
   "source": [
    "#### d)"
   ]
  },
  {
   "cell_type": "markdown",
   "metadata": {},
   "source": [
    "| **$\\Delta\\text{HitRate} = \\text{HitRate}_{\\text{mm3}} - \\text{HitRate}_{\\text{mm1}}$**         |     |\n",
    "| ---------------------------------------------------------------------------------------------- | --- |\n",
    "| **$\\text{Speedup(\\#Clocks)} = \\frac{\\text{Clocks}_{\\text{mm1}}}{\\text{Clocks}_{\\text{mm3}}}$** |     |\n"
   ]
  },
  {
   "cell_type": "markdown",
   "metadata": {},
   "source": [
    "texto aqui (<-- o comentário da tabela)"
   ]
  },
  {
   "cell_type": "markdown",
   "metadata": {},
   "source": [
    "#### e)"
   ]
  },
  {
   "cell_type": "markdown",
   "metadata": {},
   "source": [
    "| **$\\Delta\\text{HitRate} = \\text{HitRate}_{\\text{mm3}} - \\text{HitRate}_{\\text{mm2}}$**         |     |\n",
    "| ---------------------------------------------------------------------------------------------- | --- |\n",
    "| **$\\text{Speedup(\\#Clocks)} = \\frac{\\text{Clocks}_{\\text{mm2}}}{\\text{Clocks}_{\\text{mm3}}}$** |     |\n"
   ]
  },
  {
   "cell_type": "markdown",
   "metadata": {},
   "source": [
    "texto aqui (<-- o comentário da tabela)"
   ]
  },
  {
   "cell_type": "markdown",
   "metadata": {},
   "source": [
    "### 3.2.3"
   ]
  },
  {
   "cell_type": "markdown",
   "metadata": {},
   "source": [
    "texto aqui"
   ]
  }
 ],
 "metadata": {
  "kernelspec": {
   "display_name": "Python 3.10.2 64-bit",
   "language": "python",
   "name": "python3"
  },
  "language_info": {
   "codemirror_mode": {
    "name": "ipython",
    "version": 3
   },
   "file_extension": ".py",
   "mimetype": "text/x-python",
   "name": "python",
   "nbconvert_exporter": "python",
   "pygments_lexer": "ipython3",
   "version": "3.10.7"
  },
  "orig_nbformat": 4,
  "vscode": {
   "interpreter": {
    "hash": "31f2aee4e71d21fbe5cf8b01ff0e069b9275f58929596ceb00d14d90e3e16cd6"
   }
  }
 },
 "nbformat": 4,
 "nbformat_minor": 2
}
