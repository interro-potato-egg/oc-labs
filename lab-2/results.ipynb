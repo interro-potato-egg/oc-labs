{
 "cells": [
  {
   "cell_type": "markdown",
   "metadata": {},
   "source": [
    "# Answers - OC Lab 2"
   ]
  },
  {
   "cell_type": "markdown",
   "metadata": {},
   "source": [
    "## 2.1"
   ]
  },
  {
   "cell_type": "markdown",
   "metadata": {},
   "source": [
    "| **Array Size**         |     |     |     |     |     |     |\n",
    "| ---------------------- | --- | --- | --- | --- | --- | --- |\n",
    "| **t2-t1**              |     |     |     |     |     |     |\n",
    "| **# accesses a[i]**    |     |     |     |     |     |     |\n",
    "| **# mean access time** |     |     |     |     |     |     |\n"
   ]
  },
  {
   "cell_type": "markdown",
   "metadata": {},
   "source": [
    "texto aqui"
   ]
  },
  {
   "cell_type": "markdown",
   "metadata": {},
   "source": [
    "## 2.2"
   ]
  },
  {
   "cell_type": "markdown",
   "metadata": {},
   "source": [
    "texto aqui"
   ]
  },
  {
   "cell_type": "markdown",
   "metadata": {},
   "source": [
    "## 2.3"
   ]
  },
  {
   "cell_type": "markdown",
   "metadata": {},
   "source": [
    "texto aqui"
   ]
  },
  {
   "cell_type": "markdown",
   "metadata": {},
   "source": [
    "## 2.4"
   ]
  },
  {
   "cell_type": "markdown",
   "metadata": {},
   "source": [
    "texto aqui"
   ]
  },
  {
   "cell_type": "markdown",
   "metadata": {},
   "source": [
    "## 3.1"
   ]
  },
  {
   "cell_type": "markdown",
   "metadata": {},
   "source": [
    "### 3.1.1"
   ]
  },
  {
   "cell_type": "markdown",
   "metadata": {},
   "source": [
    "#### a)"
   ]
  },
  {
   "cell_type": "markdown",
   "metadata": {},
   "source": [
    "texto aqui"
   ]
  },
  {
   "cell_type": "markdown",
   "metadata": {},
   "source": [
    "#### b)"
   ]
  },
  {
   "cell_type": "markdown",
   "metadata": {},
   "source": [
    "tabelas e plot aqui"
   ]
  },
  {
   "cell_type": "markdown",
   "metadata": {},
   "source": [
    "#### c)"
   ]
  },
  {
   "cell_type": "markdown",
   "metadata": {},
   "source": [
    "##### L1 size:"
   ]
  },
  {
   "cell_type": "markdown",
   "metadata": {},
   "source": [
    "texto aqui"
   ]
  },
  {
   "cell_type": "markdown",
   "metadata": {},
   "source": [
    "##### Block size:"
   ]
  },
  {
   "cell_type": "markdown",
   "metadata": {},
   "source": [
    "texto aqui"
   ]
  },
  {
   "cell_type": "markdown",
   "metadata": {},
   "source": [
    "##### Associativity set size:"
   ]
  },
  {
   "cell_type": "markdown",
   "metadata": {},
   "source": [
    "texto aqui"
   ]
  },
  {
   "cell_type": "markdown",
   "metadata": {},
   "source": [
    "### 3.1.2"
   ]
  },
  {
   "cell_type": "markdown",
   "metadata": {},
   "source": [
    "#### a)"
   ]
  },
  {
   "cell_type": "markdown",
   "metadata": {},
   "source": [
    "texto aqui"
   ]
  },
  {
   "cell_type": "markdown",
   "metadata": {},
   "source": [
    "#### b)"
   ]
  },
  {
   "cell_type": "markdown",
   "metadata": {},
   "source": [
    "plot aqui"
   ]
  },
  {
   "cell_type": "markdown",
   "metadata": {},
   "source": [
    "#### c)"
   ]
  },
  {
   "cell_type": "markdown",
   "metadata": {},
   "source": [
    "##### L2 size:"
   ]
  },
  {
   "cell_type": "markdown",
   "metadata": {},
   "source": [
    "texto aqui"
   ]
  },
  {
   "cell_type": "markdown",
   "metadata": {},
   "source": [
    "##### Block size:"
   ]
  },
  {
   "cell_type": "markdown",
   "metadata": {},
   "source": [
    "texto aqui"
   ]
  },
  {
   "cell_type": "markdown",
   "metadata": {},
   "source": [
    "##### Associativity set size:"
   ]
  },
  {
   "cell_type": "markdown",
   "metadata": {},
   "source": [
    "texto aqui"
   ]
  },
  {
   "cell_type": "markdown",
   "metadata": {},
   "source": [
    "## 3.2"
   ]
  },
  {
   "cell_type": "markdown",
   "metadata": {},
   "source": [
    "### 3.2.1"
   ]
  },
  {
   "cell_type": "markdown",
   "metadata": {},
   "source": [
    "#### a)"
   ]
  },
  {
   "cell_type": "markdown",
   "metadata": {},
   "source": [
    "texto aqui"
   ]
  },
  {
   "cell_type": "markdown",
   "metadata": {},
   "source": [
    "#### b)"
   ]
  },
  {
   "cell_type": "markdown",
   "metadata": {},
   "source": [
    "| **Total number of L1 data cache misses**                |     | **⨯ 10^6**  |\n",
    "| ------------------------------------------------------- | --- | ----------- |\n",
    "| **Total number of load / store instructions completed** |     | **⨯ 10^6**  |\n",
    "| **Total number of clock cycles**                        |     | **⨯ 10^6**  |\n",
    "| **Elapsed time**                                        |     | **seconds** |\n"
   ]
  },
  {
   "cell_type": "markdown",
   "metadata": {},
   "source": [
    "#### c)"
   ]
  },
  {
   "cell_type": "markdown",
   "metadata": {},
   "source": [
    "texto aqui"
   ]
  },
  {
   "cell_type": "markdown",
   "metadata": {},
   "source": [
    "### 3.2.2"
   ]
  },
  {
   "cell_type": "markdown",
   "metadata": {},
   "source": [
    "#### a)"
   ]
  },
  {
   "cell_type": "markdown",
   "metadata": {},
   "source": [
    "| **Total number of L1 data cache misses**                |     | **⨯ 10^6**  |\n",
    "| ------------------------------------------------------- | --- | ----------- |\n",
    "| **Total number of load / store instructions completed** |     | **⨯ 10^6**  |\n",
    "| **Total number of clock cycles**                        |     | **⨯ 10^6**  |\n",
    "| **Elapsed time**                                        |     | **seconds** |"
   ]
  },
  {
   "cell_type": "markdown",
   "metadata": {},
   "source": [
    "#### b)"
   ]
  },
  {
   "cell_type": "markdown",
   "metadata": {},
   "source": [
    "texto aqui"
   ]
  },
  {
   "cell_type": "markdown",
   "metadata": {},
   "source": [
    "#### c)"
   ]
  },
  {
   "cell_type": "markdown",
   "metadata": {},
   "source": [
    "| **Total number of L1 data cache misses**                |     | **⨯ 10^6**  |\n",
    "| ------------------------------------------------------- | --- | ----------- |\n",
    "| **Total number of load / store instructions completed** |     | **⨯ 10^6**  |\n",
    "| **Total number of clock cycles**                        |     | **⨯ 10^6**  |\n",
    "| **Elapsed time**                                        |     | **seconds** |\n"
   ]
  },
  {
   "cell_type": "markdown",
   "metadata": {},
   "source": [
    "texto aqui"
   ]
  },
  {
   "cell_type": "markdown",
   "metadata": {},
   "source": [
    "#### d)"
   ]
  },
  {
   "cell_type": "markdown",
   "metadata": {},
   "source": [
    "| **$\\Delta\\text{HitRate} = \\text{HitRate}_{\\text{mm2}} - \\text{HitRate}_{\\text{mm1}}$**         |     |\n",
    "| ---------------------------------------------------------------------------------------------- | --- |\n",
    "| **$\\text{Speedup(\\#Clocks)} = \\frac{\\text{Clocks}_{\\text{mm1}}}{\\text{Clocks}_{\\text{mm2}}}$** |     |\n",
    "| **$\\text{Speedup(Time)} = \\frac{\\text{Time}_{\\text{mm1}}}{\\text{Time}_{\\text{mm2}}}$**         |     |\n"
   ]
  },
  {
   "cell_type": "markdown",
   "metadata": {},
   "source": [
    "texto aqui (<-- o comentário da tabela)"
   ]
  },
  {
   "cell_type": "markdown",
   "metadata": {},
   "source": [
    "### 3.2.3"
   ]
  },
  {
   "cell_type": "markdown",
   "metadata": {},
   "source": [
    "#### a)"
   ]
  },
  {
   "cell_type": "markdown",
   "metadata": {},
   "source": [
    "texto aqui"
   ]
  },
  {
   "cell_type": "markdown",
   "metadata": {},
   "source": [
    "#### b)"
   ]
  },
  {
   "cell_type": "markdown",
   "metadata": {},
   "source": [
    "| **Total number of L1 data cache misses**                |     | **⨯ 10^6**  |\n",
    "| ------------------------------------------------------- | --- | ----------- |\n",
    "| **Total number of load / store instructions completed** |     | **⨯ 10^6**  |\n",
    "| **Total number of clock cycles**                        |     | **⨯ 10^6**  |\n",
    "| **Elapsed time**                                        |     | **seconds** |\n"
   ]
  },
  {
   "cell_type": "markdown",
   "metadata": {},
   "source": [
    "#### c)"
   ]
  },
  {
   "cell_type": "markdown",
   "metadata": {},
   "source": [
    "texto aqui"
   ]
  },
  {
   "cell_type": "markdown",
   "metadata": {},
   "source": [
    "#### d)"
   ]
  },
  {
   "cell_type": "markdown",
   "metadata": {},
   "source": [
    "| **$\\Delta\\text{HitRate} = \\text{HitRate}_{\\text{mm3}} - \\text{HitRate}_{\\text{mm1}}$**         |     |\n",
    "| ---------------------------------------------------------------------------------------------- | --- |\n",
    "| **$\\text{Speedup(\\#Clocks)} = \\frac{\\text{Clocks}_{\\text{mm1}}}{\\text{Clocks}_{\\text{mm3}}}$** |     |\n"
   ]
  },
  {
   "cell_type": "markdown",
   "metadata": {},
   "source": [
    "texto aqui (<-- o comentário da tabela)"
   ]
  },
  {
   "cell_type": "markdown",
   "metadata": {},
   "source": [
    "#### e)"
   ]
  },
  {
   "cell_type": "markdown",
   "metadata": {},
   "source": [
    "| **$\\Delta\\text{HitRate} = \\text{HitRate}_{\\text{mm3}} - \\text{HitRate}_{\\text{mm2}}$**         |     |\n",
    "| ---------------------------------------------------------------------------------------------- | --- |\n",
    "| **$\\text{Speedup(\\#Clocks)} = \\frac{\\text{Clocks}_{\\text{mm2}}}{\\text{Clocks}_{\\text{mm3}}}$** |     |\n"
   ]
  },
  {
   "cell_type": "markdown",
   "metadata": {},
   "source": [
    "texto aqui (<-- o comentário da tabela)"
   ]
  },
  {
   "cell_type": "markdown",
   "metadata": {},
   "source": [
    "### 3.2.3"
   ]
  },
  {
   "cell_type": "markdown",
   "metadata": {},
   "source": [
    "texto aqui"
   ]
  }
 ],
 "metadata": {
  "kernelspec": {
   "display_name": "Python 3.10.2 64-bit",
   "language": "python",
   "name": "python3"
  },
  "language_info": {
   "name": "python",
   "version": "3.10.4"
  },
  "orig_nbformat": 4,
  "vscode": {
   "interpreter": {
    "hash": "31f2aee4e71d21fbe5cf8b01ff0e069b9275f58929596ceb00d14d90e3e16cd6"
   }
  }
 },
 "nbformat": 4,
 "nbformat_minor": 2
}
