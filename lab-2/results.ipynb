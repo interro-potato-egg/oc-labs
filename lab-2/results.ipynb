{
 "cells": [
  {
   "cell_type": "markdown",
   "metadata": {},
   "source": [
    "# Answers - OC Lab 2"
   ]
  },
  {
   "cell_type": "markdown",
   "metadata": {},
   "source": [
    "## 2.1"
   ]
  },
  {
   "cell_type": "code",
   "execution_count": 5,
   "metadata": {},
   "outputs": [
    {
     "data": {
      "text/html": [
       "<table>\n",
       "<thead>\n",
       "<tr><th>Array Size  </th><th style=\"text-align: right;\">  Avg Elapsed Time (s)</th><th style=\"text-align: right;\">  Avg Access Time (ns)</th></tr>\n",
       "</thead>\n",
       "<tbody>\n",
       "<tr><td>4 KiB       </td><td style=\"text-align: right;\">            0.00134333</td><td style=\"text-align: right;\">               3.27936</td></tr>\n",
       "<tr><td>8 KiB       </td><td style=\"text-align: right;\">            0.00197331</td><td style=\"text-align: right;\">               2.40878</td></tr>\n",
       "<tr><td>16 KiB      </td><td style=\"text-align: right;\">            0.00390036</td><td style=\"text-align: right;\">               2.38066</td></tr>\n",
       "<tr><td>32 KiB      </td><td style=\"text-align: right;\">            0.00777907</td><td style=\"text-align: right;\">               2.37396</td></tr>\n",
       "<tr><td>64 KiB      </td><td style=\"text-align: right;\">            0.0185227 </td><td style=\"text-align: right;\">               2.82638</td></tr>\n",
       "<tr><td>128 KiB     </td><td style=\"text-align: right;\">            0.0411921 </td><td style=\"text-align: right;\">               3.14271</td></tr>\n",
       "<tr><td>256 KiB     </td><td style=\"text-align: right;\">            0.0912179 </td><td style=\"text-align: right;\">               3.47969</td></tr>\n",
       "<tr><td>512 KiB     </td><td style=\"text-align: right;\">            0.190617  </td><td style=\"text-align: right;\">               3.63574</td></tr>\n",
       "<tr><td>1024 KiB    </td><td style=\"text-align: right;\">            0.379658  </td><td style=\"text-align: right;\">               3.6207 </td></tr>\n",
       "<tr><td>2048 KiB    </td><td style=\"text-align: right;\">            0.733716  </td><td style=\"text-align: right;\">               3.49863</td></tr>\n",
       "<tr><td>4096 KiB    </td><td style=\"text-align: right;\">            1.8985    </td><td style=\"text-align: right;\">               4.52637</td></tr>\n",
       "</tbody>\n",
       "</table>"
      ],
      "text/plain": [
       "'<table>\\n<thead>\\n<tr><th>Array Size  </th><th style=\"text-align: right;\">  Avg Elapsed Time (s)</th><th style=\"text-align: right;\">  Avg Access Time (ns)</th></tr>\\n</thead>\\n<tbody>\\n<tr><td>4 KiB       </td><td style=\"text-align: right;\">            0.00134333</td><td style=\"text-align: right;\">               3.27936</td></tr>\\n<tr><td>8 KiB       </td><td style=\"text-align: right;\">            0.00197331</td><td style=\"text-align: right;\">               2.40878</td></tr>\\n<tr><td>16 KiB      </td><td style=\"text-align: right;\">            0.00390036</td><td style=\"text-align: right;\">               2.38066</td></tr>\\n<tr><td>32 KiB      </td><td style=\"text-align: right;\">            0.00777907</td><td style=\"text-align: right;\">               2.37396</td></tr>\\n<tr><td>64 KiB      </td><td style=\"text-align: right;\">            0.0185227 </td><td style=\"text-align: right;\">               2.82638</td></tr>\\n<tr><td>128 KiB     </td><td style=\"text-align: right;\">            0.0411921 </td><td style=\"text-align: right;\">               3.14271</td></tr>\\n<tr><td>256 KiB     </td><td style=\"text-align: right;\">            0.0912179 </td><td style=\"text-align: right;\">               3.47969</td></tr>\\n<tr><td>512 KiB     </td><td style=\"text-align: right;\">            0.190617  </td><td style=\"text-align: right;\">               3.63574</td></tr>\\n<tr><td>1024 KiB    </td><td style=\"text-align: right;\">            0.379658  </td><td style=\"text-align: right;\">               3.6207 </td></tr>\\n<tr><td>2048 KiB    </td><td style=\"text-align: right;\">            0.733716  </td><td style=\"text-align: right;\">               3.49863</td></tr>\\n<tr><td>4096 KiB    </td><td style=\"text-align: right;\">            1.8985    </td><td style=\"text-align: right;\">               4.52637</td></tr>\\n</tbody>\\n</table>'"
      ]
     },
     "execution_count": 5,
     "metadata": {},
     "output_type": "execute_result"
    }
   ],
   "source": [
    "from typing import List\n",
    "from tabulate import tabulate\n",
    "\n",
    "table_rows: List[List[str | float]] = [[\"Array Size\", \"Avg Elapsed Time (s)\", \"Number of accesses\", \"Avg Access Time (ns)\"]]\n",
    "\n",
    "with open(\"lab2_kit/spark/spark.log\") as f:\n",
    "    next(f)  # ignore header\n",
    "\n",
    "    array_size = None\n",
    "    elapsed_times = []\n",
    "    access_times = []\n",
    "\n",
    "    def close_block():\n",
    "        global array_size, elapsed_times, access_times, num_accesses\n",
    "\n",
    "        if array_size is None:\n",
    "            return\n",
    "\n",
    "        avg_elapsed_time = sum(elapsed_times) / len(elapsed_times)\n",
    "        avg_access_time = sum(access_times) / len(access_times)\n",
    "\n",
    "        table_rows.append([array_size, avg_elapsed_time, num_accesses, avg_access_time])\n",
    "\n",
    "        array_size = None\n",
    "        elapsed_times = []\n",
    "        access_times = []\n",
    "\n",
    "    for line in f:\n",
    "        if line.startswith(\"[LOG]:\"):\n",
    "            close_block()\n",
    "            array_size = line[line.find(\"size \") + len(\"size \") :]\n",
    "        elif array_size is not None:\n",
    "            _, _, elapsed, _, access, num_accesses = line.split(\"\\t\")\n",
    "            elapsed_times.append(float(elapsed))\n",
    "            access_times.append(float(access))\n",
    "        else:\n",
    "            print(\"Error: malformed logfile\")\n",
    "            exit(1)\n",
    "    \n",
    "    close_block()\n",
    "\n",
    "tabulate(table_rows, headers=\"firstrow\", tablefmt=\"html\")\n"
   ]
  },
  {
   "cell_type": "markdown",
   "metadata": {},
   "source": [
    "| **Array Size**         | 4 KiB | 8 KiB | 16 KiB | 32 KiB | 64 KiB | 128 KiB |\n",
    "| ---------------------- | ----- | ----- | ------ | ------ | ------ | ------- |\n",
    "| **t2-t1**              |       |       |        |        |        |         |\n",
    "| **# accesses a[i]**    |       |       |        |        |        |         |\n",
    "| **# mean access time** |       |       |        |        |        |         |\n"
   ]
  },
  {
   "cell_type": "markdown",
   "metadata": {},
   "source": [
    "lab7p2"
   ]
  },
  {
   "cell_type": "markdown",
   "metadata": {},
   "source": [
    "## 2.2"
   ]
  },
  {
   "cell_type": "markdown",
   "metadata": {},
   "source": [
    "The cache size is 64KB because from there the reading and writing times increase in a disproportional manner - there is a clear spike between 64KB and 128KB, due to an increase in capacity misses."
   ]
  },
  {
   "cell_type": "markdown",
   "metadata": {},
   "source": [
    "## 2.3"
   ]
  },
  {
   "cell_type": "markdown",
   "metadata": {},
   "source": [
    "texto aqui"
   ]
  },
  {
   "cell_type": "markdown",
   "metadata": {},
   "source": [
    "## 2.4"
   ]
  },
  {
   "cell_type": "markdown",
   "metadata": {},
   "source": [
    "texto aqui"
   ]
  },
  {
   "cell_type": "markdown",
   "metadata": {},
   "source": [
    "## 3.1"
   ]
  },
  {
   "cell_type": "markdown",
   "metadata": {},
   "source": [
    "### 3.1.1"
   ]
  },
  {
   "cell_type": "markdown",
   "metadata": {},
   "source": [
    "#### a)"
   ]
  },
  {
   "cell_type": "markdown",
   "metadata": {},
   "source": [
    "During the program's execution, the analyzed events will be L1 Data Cache misses - there's a trigger every time there's a miss in the L1 Data Cache."
   ]
  },
  {
   "cell_type": "markdown",
   "metadata": {},
   "source": [
    "#### b)"
   ]
  },
  {
   "cell_type": "markdown",
   "metadata": {},
   "source": [
    "![Plot](assets/3.1.1-b.png)"
   ]
  },
  {
   "cell_type": "markdown",
   "metadata": {},
   "source": [
    "Tabela: está em cm1.out, depois vamos lá buscar os valores :fixe3:"
   ]
  },
  {
   "cell_type": "markdown",
   "metadata": {},
   "source": [
    "#### c)"
   ]
  },
  {
   "cell_type": "markdown",
   "metadata": {},
   "source": [
    "##### L1 size:"
   ]
  },
  {
   "cell_type": "markdown",
   "metadata": {},
   "source": [
    "From 32KB and above, the average miss rate goes way above what was happening previously. We can therefore assume that the whole array fit in there previously (not fitting there anymore), and that as the array size surpasses that value, the misses start to \"flood\" us."
   ]
  },
  {
   "cell_type": "markdown",
   "metadata": {},
   "source": [
    "##### Block size:"
   ]
  },
  {
   "cell_type": "markdown",
   "metadata": {},
   "source": [
    "The block size is directly related with the stride utilized in the algorithm - the stride ends up telling us how many words we skip. Here, a \"word\" is a `uint8_t`, a Byte, so each stride is a Byte skipped. As we can see, for a cache size of 64KiB, the miss rate steadily increases as the block size increases, reaching 1 at 64B (and keeping steady up until 4KiB). This is because with a block size of 64B, we're essentially always loading up a new block into cache with a 64-word stride (since the word we're looking for is guaranteed not to be there). It can also be noted that for strides of 8, 16 and 32 words, the miss rate also grows from 12.5 to 25 to 50%, effectively doubling the miss rate for each stride increase - if we jump in groups of 8 words with a 64B block size, we're bound to have to load a new board every 8 times, and so on."
   ]
  },
  {
   "cell_type": "markdown",
   "metadata": {},
   "source": [
    "##### Associativity set size:"
   ]
  },
  {
   "cell_type": "markdown",
   "metadata": {},
   "source": [
    "texto aqui"
   ]
  },
  {
   "cell_type": "markdown",
   "metadata": {},
   "source": [
    "### 3.1.2"
   ]
  },
  {
   "cell_type": "markdown",
   "metadata": {},
   "source": [
    "#### a)"
   ]
  },
  {
   "cell_type": "markdown",
   "metadata": {},
   "source": [
    "We changed both the event being tracked to `PAPI_L2_DCM`, to be able to track L2 Data Cache misses now, and the `CACHE_MIN` and `CACHE_MAX` values, respectively to 64KiB and 1MiB, to be able to track the L2 cache. Do note that the 64KiB value was explicitly chosen as to start right one power of 2 above the expected L1 cache size, since the L2 cache is supposed to always be bigger than the L1 cache."
   ]
  },
  {
   "cell_type": "markdown",
   "metadata": {},
   "source": [
    "#### b)"
   ]
  },
  {
   "cell_type": "markdown",
   "metadata": {},
   "source": [
    "![Plot](assets/3.1.2-b.png)"
   ]
  },
  {
   "cell_type": "markdown",
   "metadata": {},
   "source": [
    "#### c)"
   ]
  },
  {
   "cell_type": "markdown",
   "metadata": {},
   "source": [
    "##### L2 size:"
   ]
  },
  {
   "cell_type": "markdown",
   "metadata": {},
   "source": [
    "For the same reasons described in 3.1.1 c)'s L1 size section, the L2 cache size seems to be 256KiB, since with the array size going above that, the miss rate grows in a disproportional manner: the array doesn't fit as a whole anymore, which leads to misses starting to happen."
   ]
  },
  {
   "cell_type": "markdown",
   "metadata": {},
   "source": [
    "##### Block size:"
   ]
  },
  {
   "cell_type": "markdown",
   "metadata": {},
   "source": [
    "For the same reasons described in 3.1.1 c)'s Block size section, the L2 cache's block size also seems to be 64B."
   ]
  },
  {
   "cell_type": "markdown",
   "metadata": {},
   "source": [
    "##### Associativity set size:"
   ]
  },
  {
   "cell_type": "markdown",
   "metadata": {},
   "source": [
    "texto aqui"
   ]
  },
  {
   "cell_type": "markdown",
   "metadata": {},
   "source": [
    "## 3.2"
   ]
  },
  {
   "cell_type": "markdown",
   "metadata": {},
   "source": [
    "### 3.2.1"
   ]
  },
  {
   "cell_type": "markdown",
   "metadata": {},
   "source": [
    "#### a)"
   ]
  },
  {
   "cell_type": "markdown",
   "metadata": {},
   "source": [
    "We have two $512 \\times 512$ `uint16_t` matrices: each matrix occupies $512^2 \\times 2 = 2^{19}$ Bytes = $512$ KB, so the two of them combined occupy $2^{20}$ Bytes, or $1$ MB, in memory."
   ]
  },
  {
   "cell_type": "markdown",
   "metadata": {},
   "source": [
    "#### b)"
   ]
  },
  {
   "cell_type": "markdown",
   "metadata": {},
   "source": [
    "Program output:\n",
    "\n",
    "```\n",
    "After resetting counter 'PAPI_L1_DCM' [x10^6]: 0.000000\n",
    "After resetting counter 'PAPI_LD_INS' [x10^6]: 0.000000\n",
    "After resetting counter 'PAPI_SR_INS' [x10^6]: 0.000000\n",
    "After stopping counter 'PAPI_L1_DCM'  [x10^6]: 134.444855\n",
    "After stopping counter 'PAPI_LD_INS'  [x10^6]: 3491.023749\n",
    "After stopping counter 'PAPI_SR_INS'  [x10^6]: 672.141375\n",
    "Wall clock cycles [x10^6]: 3995.673182\n",
    "Wall clock time [seconds]: 1.177878\n",
    "Matrix checksum: 2717908992\n",
    "```"
   ]
  },
  {
   "cell_type": "markdown",
   "metadata": {},
   "source": [
    "| **Total number of L1 data cache misses**                |  134.444855   | **⨯ 10^6**  |\n",
    "| ------------------------------------------------------- | --- | ----------- |\n",
    "| **Total number of load / store instructions completed** |  3491.023749 + 672.141375  | **⨯ 10^6**  |\n",
    "| **Total number of clock cycles**                        |  3995.673182   | **⨯ 10^6**  |\n",
    "| **Elapsed time**                                        |  1.177878   | **seconds** |\n"
   ]
  },
  {
   "cell_type": "markdown",
   "metadata": {},
   "source": [
    "#### c)"
   ]
  },
  {
   "cell_type": "markdown",
   "metadata": {},
   "source": [
    "$$\n",
    "\\operatorname{HitRate} = 1 - \\operatorname{MissRate} = 1 - \\frac{\\operatorname{Misses}}{\\operatorname{Accesses}} = 1 - \\frac{134.444855}{3491.023749 + 672.141375} = 0.9677\n",
    "$$"
   ]
  },
  {
   "cell_type": "markdown",
   "metadata": {},
   "source": [
    "### 3.2.2"
   ]
  },
  {
   "cell_type": "markdown",
   "metadata": {},
   "source": [
    "#### a)"
   ]
  },
  {
   "cell_type": "markdown",
   "metadata": {},
   "source": [
    "Program output:\n",
    "\n",
    "```\n",
    "After resetting counter 'PAPI_L1_DCM' [x10^6]: 0.000000\n",
    "After resetting counter 'PAPI_LD_INS' [x10^6]: 0.000000\n",
    "After resetting counter 'PAPI_SR_INS' [x10^6]: 0.000000\n",
    "After stopping counter 'PAPI_L1_DCM'  [x10^6]: 4.212926\n",
    "After stopping counter 'PAPI_LD_INS'  [x10^6]: 402.664929\n",
    "After stopping counter 'PAPI_SR_INS'  [x10^6]: 134.217780\n",
    "Wall clock cycles [x10^6]: 744.145336\n",
    "Wall clock time [seconds]: 0.219365\n",
    "Matrix checksum: 2717908992\n",
    "```"
   ]
  },
  {
   "cell_type": "markdown",
   "metadata": {},
   "source": [
    "| **Total number of L1 data cache misses**                |  4.212926   | **⨯ 10^6**  |\n",
    "| ------------------------------------------------------- | --- | ----------- |\n",
    "| **Total number of load / store instructions completed** |  402.664929 + 134.217780   | **⨯ 10^6**  |\n",
    "| **Total number of clock cycles**                        |  744.145336   | **⨯ 10^6**  |\n",
    "| **Elapsed time**                                        |   0.219365  | **seconds** |"
   ]
  },
  {
   "cell_type": "markdown",
   "metadata": {},
   "source": [
    "#### b)"
   ]
  },
  {
   "cell_type": "markdown",
   "metadata": {},
   "source": [
    "$$\n",
    "\\operatorname{HitRate} = 1 - \\operatorname{MissRate} = 1 - \\frac{\\operatorname{Misses}}{\\operatorname{Accesses}} = 1 - \\frac{4.212926}{402.664929 + 134.217780} = 0.99215\n",
    "$$"
   ]
  },
  {
   "cell_type": "markdown",
   "metadata": {},
   "source": [
    "#### c)"
   ]
  },
  {
   "cell_type": "markdown",
   "metadata": {},
   "source": [
    "Program output:\n",
    "\n",
    "```\n",
    "After resetting counter 'PAPI_L1_DCM' [x10^6]: 0.000000\n",
    "After resetting counter 'PAPI_LD_INS' [x10^6]: 0.000000\n",
    "After resetting counter 'PAPI_SR_INS' [x10^6]: 0.000000\n",
    "After stopping counter 'PAPI_L1_DCM'  [x10^6]: 4.484165\n",
    "After stopping counter 'PAPI_LD_INS'  [x10^6]: 402.925461\n",
    "After stopping counter 'PAPI_SR_INS'  [x10^6]: 134.479925\n",
    "Wall clock cycles [x10^6]: 744.901308\n",
    "Wall clock time [seconds]: 0.219588\n",
    "Matrix checksum: 2717908992\n",
    "```"
   ]
  },
  {
   "cell_type": "markdown",
   "metadata": {},
   "source": [
    "| **Total number of L1 data cache misses**                |  4.484165   | **⨯ 10^6**  |\n",
    "| ------------------------------------------------------- | --- | ----------- |\n",
    "| **Total number of load / store instructions completed** |  402.925461 + 134.479925  | **⨯ 10^6**  |\n",
    "| **Total number of clock cycles**                        | 744.901308    | **⨯ 10^6**  |\n",
    "| **Elapsed time**                                        | 0.219588    | **seconds** |\n"
   ]
  },
  {
   "cell_type": "markdown",
   "metadata": {},
   "source": [
    "Even though all values went up, it was only by a slight margin, since the time complexity of matrix transposition (quadratic) is way smaller in comparison with the one associated with the matrix multiplication (cubic)."
   ]
  },
  {
   "cell_type": "markdown",
   "metadata": {},
   "source": [
    "#### d)"
   ]
  },
  {
   "cell_type": "markdown",
   "metadata": {},
   "source": [
    "| **$\\Delta\\text{HitRate} = \\text{HitRate}_{\\text{mm2}} - \\text{HitRate}_{\\text{mm1}}$**         | 0.99215 - 0.9677 = 0.02445 |\n",
    "| ---------------------------------------------------------------------------------------------- | --- |\n",
    "| **$\\text{Speedup(\\#Clocks)} = \\frac{\\text{Clocks}_{\\text{mm1}}}{\\text{Clocks}_{\\text{mm2}}}$** | $\\frac{3995.673182}{744.145336} = 5.369479574$    |\n",
    "| **$\\text{Speedup(Time)} = \\frac{\\text{Time}_{\\text{mm1}}}{\\text{Time}_{\\text{mm2}}}$**         | $\\frac{1.177878}{0.219365} = 5.369489207$    |\n"
   ]
  },
  {
   "cell_type": "markdown",
   "metadata": {},
   "source": [
    "The speedup gained by this second implementation seems to really be worth it, both in terms of clock cycles and time gained."
   ]
  },
  {
   "cell_type": "markdown",
   "metadata": {},
   "source": [
    "### 3.2.3"
   ]
  },
  {
   "cell_type": "markdown",
   "metadata": {},
   "source": [
    "#### a)"
   ]
  },
  {
   "cell_type": "markdown",
   "metadata": {},
   "source": [
    "Each element occupies $2$ Bytes, since they are of type `uint16_t`. Therefore, since each line takes $64$ bytes (considering the value gathered in 3.1), the number of elements per line is $\\frac{64}{2} = 32$."
   ]
  },
  {
   "cell_type": "markdown",
   "metadata": {},
   "source": [
    "#### b)"
   ]
  },
  {
   "cell_type": "markdown",
   "metadata": {},
   "source": [
    "Program output:\n",
    "\n",
    "```\n",
    "After resetting counter 'PAPI_L1_DCM' [x10^6]: 0.000000\n",
    "After resetting counter 'PAPI_LD_INS' [x10^6]: 0.000000\n",
    "After resetting counter 'PAPI_SR_INS' [x10^6]: 0.000000\n",
    "After stopping counter 'PAPI_L1_DCM'  [x10^6]: 5.810141\n",
    "After stopping counter 'PAPI_LD_INS'  [x10^6]: 402.802696\n",
    "After stopping counter 'PAPI_SR_INS'  [x10^6]: 134.222203\n",
    "Wall clock cycles [x10^6]: 397.765652\n",
    "Wall clock time [seconds]: 0.117256\n",
    "Matrix checksum: 2717908992\n",
    "```"
   ]
  },
  {
   "cell_type": "markdown",
   "metadata": {},
   "source": [
    "| **Total number of L1 data cache misses**                |  5.810141   | **⨯ 10^6**  |\n",
    "| ------------------------------------------------------- | --- | ----------- |\n",
    "| **Total number of load / store instructions completed** |  402.802696 + 134.217780   | **⨯ 10^6**  |\n",
    "| **Total number of clock cycles**                        | 397.765652   | **⨯ 10^6**  |\n",
    "| **Elapsed time**                                        |  0.117256   | **seconds** |\n"
   ]
  },
  {
   "cell_type": "markdown",
   "metadata": {},
   "source": [
    "#### c)"
   ]
  },
  {
   "cell_type": "markdown",
   "metadata": {},
   "source": [
    "$$\n",
    "\\operatorname{HitRate} = 1 - \\operatorname{MissRate} = 1 - \\frac{\\operatorname{Misses}}{\\operatorname{Accesses}} = 1 - \\frac{5.810141}{402.802696 + 134.217780} = 0.9891807831\n",
    "$$"
   ]
  },
  {
   "cell_type": "markdown",
   "metadata": {},
   "source": [
    "#### d)"
   ]
  },
  {
   "cell_type": "markdown",
   "metadata": {},
   "source": [
    "| **$\\Delta\\text{HitRate} = \\text{HitRate}_{\\text{mm3}} - \\text{HitRate}_{\\text{mm1}}$**         |  0.9891807831 - 0.9677 = 0.0214807831  |\n",
    "| ---------------------------------------------------------------------------------------------- | --- |\n",
    "| **$\\text{Speedup(\\#Clocks)} = \\frac{\\text{Clocks}_{\\text{mm1}}}{\\text{Clocks}_{\\text{mm3}}}$** |  $\\frac{3995.673182}{397.765652} = 10.04529467$   |\n"
   ]
  },
  {
   "cell_type": "markdown",
   "metadata": {},
   "source": [
    "This new implementation, exploring the spacial locality of the matrix, is way more efficient than the original, \"naive\" one, leading to a speedup of around $10$ times"
   ]
  },
  {
   "cell_type": "markdown",
   "metadata": {},
   "source": [
    "#### e)"
   ]
  },
  {
   "cell_type": "markdown",
   "metadata": {},
   "source": [
    "| **$\\Delta\\text{HitRate} = \\text{HitRate}_{\\text{mm3}} - \\text{HitRate}_{\\text{mm2}}$**         |  0.9891807831 - 0.99215 = −0.0029692169  |\n",
    "| ---------------------------------------------------------------------------------------------- | --- |\n",
    "| **$\\text{Speedup(\\#Clocks)} = \\frac{\\text{Clocks}_{\\text{mm2}}}{\\text{Clocks}_{\\text{mm3}}}$** | $\\frac{744.145336}{397.765652} = 1.870813461$    |\n"
   ]
  },
  {
   "cell_type": "markdown",
   "metadata": {},
   "source": [
    "This new implementation ends up being a level above the transposition one, by a factor of about 1.87 times - it shows that, here, exploring the cache's spacial locality is more efficient than relying on a supposed algorithmic advantage, which might not even work well for very large matrixes.\n",
    "\n",
    "We also, just as the question's statement suggested, went and tested the L2 miss events for both programs:\n",
    "\n",
    "- for the transposition one, we found 4.473961 L2 misses;\n",
    "- for the last one, we 0.471593 L2 misses.\n",
    "\n",
    "This is crucial for the program's efficiency, since going up a level in the cache, be it L3 or memory, is very costly (in comparison with L1 and L2)."
   ]
  },
  {
   "cell_type": "markdown",
   "metadata": {},
   "source": [
    "### 3.2.3"
   ]
  },
  {
   "cell_type": "markdown",
   "metadata": {},
   "source": [
    "texto aqui"
   ]
  }
 ],
 "metadata": {
  "kernelspec": {
   "display_name": "Python 3.10.7 64-bit",
   "language": "python",
   "name": "python3"
  },
  "language_info": {
   "codemirror_mode": {
    "name": "ipython",
    "version": 3
   },
   "file_extension": ".py",
   "mimetype": "text/x-python",
   "name": "python",
   "nbconvert_exporter": "python",
   "pygments_lexer": "ipython3",
   "version": "3.10.7"
  },
  "orig_nbformat": 4,
  "vscode": {
   "interpreter": {
    "hash": "e7370f93d1d0cde622a1f8e1c04877d8463912d04d973331ad4851f04de6915a"
   }
  }
 },
 "nbformat": 4,
 "nbformat_minor": 2
}
