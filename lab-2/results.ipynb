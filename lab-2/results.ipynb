{
 "cells": [
  {
   "cell_type": "markdown",
   "metadata": {},
   "source": [
    "# Answers - OC Lab 2"
   ]
  },
  {
   "cell_type": "markdown",
   "metadata": {},
   "source": [
    "## 2.1"
   ]
  },
  {
   "cell_type": "code",
   "execution_count": 14,
   "metadata": {},
   "outputs": [
    {
     "data": {
      "text/html": [
       "<table>\n",
       "<thead>\n",
       "<tr><th>Array Size  </th><th style=\"text-align: right;\">  Avg Elapsed Time (s)</th><th style=\"text-align: right;\">  Number of accesses</th><th style=\"text-align: right;\">  Avg Access Time (ns)</th></tr>\n",
       "</thead>\n",
       "<tbody>\n",
       "<tr><td>4 KiB       </td><td style=\"text-align: right;\">            0.00133117</td><td style=\"text-align: right;\">                     409600\n",
       "</td><td style=\"text-align: right;\">               3.24993</td></tr>\n",
       "<tr><td>8 KiB       </td><td style=\"text-align: right;\">            0.00195577</td><td style=\"text-align: right;\">                     819200\n",
       "</td><td style=\"text-align: right;\">               2.38746</td></tr>\n",
       "<tr><td>16 KiB      </td><td style=\"text-align: right;\">            0.00391229</td><td style=\"text-align: right;\">                     1638400\n",
       "</td><td style=\"text-align: right;\">               2.38788</td></tr>\n",
       "<tr><td>32 KiB      </td><td style=\"text-align: right;\">            0.00790633</td><td style=\"text-align: right;\">                     3276800\n",
       "</td><td style=\"text-align: right;\">               2.4128 </td></tr>\n",
       "<tr><td>64 KiB      </td><td style=\"text-align: right;\">            0.0190731 </td><td style=\"text-align: right;\">                     6553600\n",
       "</td><td style=\"text-align: right;\">               2.91031</td></tr>\n",
       "<tr><td>128 KiB     </td><td style=\"text-align: right;\">            0.0417712 </td><td style=\"text-align: right;\">                     13107200\n",
       "</td><td style=\"text-align: right;\">               3.18689</td></tr>\n",
       "<tr><td>256 KiB     </td><td style=\"text-align: right;\">            0.0910264 </td><td style=\"text-align: right;\">                     26214400\n",
       "</td><td style=\"text-align: right;\">               3.47238</td></tr>\n",
       "<tr><td>512 KiB     </td><td style=\"text-align: right;\">            0.195436  </td><td style=\"text-align: right;\">                     52428800\n",
       "</td><td style=\"text-align: right;\">               3.72765</td></tr>\n",
       "<tr><td>1024 KiB    </td><td style=\"text-align: right;\">            0.407893  </td><td style=\"text-align: right;\">                     104857600\n",
       "</td><td style=\"text-align: right;\">               3.88997</td></tr>\n",
       "<tr><td>2048 KiB    </td><td style=\"text-align: right;\">            0.85298   </td><td style=\"text-align: right;\">                     209715200\n",
       "</td><td style=\"text-align: right;\">               4.06732</td></tr>\n",
       "<tr><td>4096 KiB    </td><td style=\"text-align: right;\">            1.87902   </td><td style=\"text-align: right;\">                     419430400\n",
       "</td><td style=\"text-align: right;\">               4.47993</td></tr>\n",
       "</tbody>\n",
       "</table>"
      ],
      "text/plain": [
       "'<table>\\n<thead>\\n<tr><th>Array Size  </th><th style=\"text-align: right;\">  Avg Elapsed Time (s)</th><th style=\"text-align: right;\">  Number of accesses</th><th style=\"text-align: right;\">  Avg Access Time (ns)</th></tr>\\n</thead>\\n<tbody>\\n<tr><td>4 KiB       </td><td style=\"text-align: right;\">            0.00133117</td><td style=\"text-align: right;\">                     409600\\n</td><td style=\"text-align: right;\">               3.24993</td></tr>\\n<tr><td>8 KiB       </td><td style=\"text-align: right;\">            0.00195577</td><td style=\"text-align: right;\">                     819200\\n</td><td style=\"text-align: right;\">               2.38746</td></tr>\\n<tr><td>16 KiB      </td><td style=\"text-align: right;\">            0.00391229</td><td style=\"text-align: right;\">                     1638400\\n</td><td style=\"text-align: right;\">               2.38788</td></tr>\\n<tr><td>32 KiB      </td><td style=\"text-align: right;\">            0.00790633</td><td style=\"text-align: right;\">                     3276800\\n</td><td style=\"text-align: right;\">               2.4128 </td></tr>\\n<tr><td>64 KiB      </td><td style=\"text-align: right;\">            0.0190731 </td><td style=\"text-align: right;\">                     6553600\\n</td><td style=\"text-align: right;\">               2.91031</td></tr>\\n<tr><td>128 KiB     </td><td style=\"text-align: right;\">            0.0417712 </td><td style=\"text-align: right;\">                     13107200\\n</td><td style=\"text-align: right;\">               3.18689</td></tr>\\n<tr><td>256 KiB     </td><td style=\"text-align: right;\">            0.0910264 </td><td style=\"text-align: right;\">                     26214400\\n</td><td style=\"text-align: right;\">               3.47238</td></tr>\\n<tr><td>512 KiB     </td><td style=\"text-align: right;\">            0.195436  </td><td style=\"text-align: right;\">                     52428800\\n</td><td style=\"text-align: right;\">               3.72765</td></tr>\\n<tr><td>1024 KiB    </td><td style=\"text-align: right;\">            0.407893  </td><td style=\"text-align: right;\">                     104857600\\n</td><td style=\"text-align: right;\">               3.88997</td></tr>\\n<tr><td>2048 KiB    </td><td style=\"text-align: right;\">            0.85298   </td><td style=\"text-align: right;\">                     209715200\\n</td><td style=\"text-align: right;\">               4.06732</td></tr>\\n<tr><td>4096 KiB    </td><td style=\"text-align: right;\">            1.87902   </td><td style=\"text-align: right;\">                     419430400\\n</td><td style=\"text-align: right;\">               4.47993</td></tr>\\n</tbody>\\n</table>'"
      ]
     },
     "execution_count": 14,
     "metadata": {},
     "output_type": "execute_result"
    }
   ],
   "source": [
    "from typing import List\n",
    "from tabulate import tabulate\n",
    "\n",
    "table_rows: List[List[str | float]] = [[\"Array Size\", \"Avg Elapsed Time (s)\", \"Number of accesses\", \"Avg Access Time (ns)\"]]\n",
    "\n",
    "with open(\"lab2_kit/spark/spark.log\") as f:\n",
    "    next(f)  # ignore header\n",
    "\n",
    "    array_size = None\n",
    "    elapsed_times = []\n",
    "    access_times = []\n",
    "\n",
    "    def close_block():\n",
    "        global array_size, elapsed_times, access_times, num_accesses\n",
    "\n",
    "        if array_size is None:\n",
    "            return\n",
    "\n",
    "        avg_elapsed_time = sum(elapsed_times) / len(elapsed_times)\n",
    "        avg_access_time = sum(access_times) / len(access_times)\n",
    "\n",
    "        table_rows.append([array_size, avg_elapsed_time, num_accesses, avg_access_time])\n",
    "\n",
    "        array_size = None\n",
    "        elapsed_times = []\n",
    "        access_times = []\n",
    "\n",
    "    for line in f:\n",
    "        if line.startswith(\"[LOG]:\"):\n",
    "            close_block()\n",
    "            array_size = line[line.find(\"size \") + len(\"size \") :]\n",
    "        elif array_size is not None:\n",
    "            _, _, elapsed, _, access, num_accesses = line.split(\"\\t\")\n",
    "            elapsed_times.append(float(elapsed))\n",
    "            access_times.append(float(access))\n",
    "        else:\n",
    "            print(\"Error: malformed logfile\")\n",
    "            exit(1)\n",
    "    \n",
    "    close_block()\n",
    "\n",
    "tabulate(table_rows, headers=\"firstrow\", tablefmt=\"html\")\n"
   ]
  },
  {
   "cell_type": "markdown",
   "metadata": {},
   "source": [
    "| **Array Size**             | 8 KiB          | 16 KiB         | 32 KiB        | 64 KiB         | 128 KiB        | 256 KiB        |\n",
    "| -------------------------- | -------------- | -------------- | ------------- | -------------- | -------------- | -------------- |\n",
    "| **t2-t1 (s)**              | 0.00195577     | 0.00391229     | 0.00790633    | 0.0190731      | 0.0417712      | 0.0910264      |\n",
    "| **# accesses a[i]**        | 819200         | 1638400        | 3276800       | 6553600        | 13107200       | 26214400       |\n",
    "| **# mean access time (s)** | 2.38746 × 10⁻⁹ | 2.38788 × 10⁻⁹ | 2.4128 × 10⁻⁹ | 2.91031 × 10⁻⁹ | 3.18689 × 10⁻⁹ | 3.47238 × 10⁻⁹ |\n"
   ]
  },
  {
   "cell_type": "markdown",
   "metadata": {},
   "source": [
    "By analyzing the table above, representative of data gathered by running the Spark program on the lab7p2 computer, we can empirically assess that the machine's cache capacity is 32KB. We can conclude this because the mean access time clearly increases for array sizes above 32KB (from around 2.4128ns to 2.91031ns and above).\n",
    "\n",
    "![plot](assets/2.1.png)"
   ]
  },
  {
   "cell_type": "markdown",
   "metadata": {},
   "source": [
    "## 2.2"
   ]
  },
  {
   "cell_type": "markdown",
   "metadata": {},
   "source": [
    "The cache size is 64KB because from there the reading and writing times increase in a disproportional manner - there is a clear spike between 64KB and 128KB for the same steps in stride, due to an increase in capacity misses."
   ]
  },
  {
   "cell_type": "markdown",
   "metadata": {},
   "source": [
    "## 2.3"
   ]
  },
  {
   "cell_type": "markdown",
   "metadata": {},
   "source": [
    "By analyzing the plots for array sizes that do not fully fit in the cache (>=128KB), we can see that reading and writing times stabilize after a stride size of 16, thus we can conclude that each cache block has 16B of size."
   ]
  },
  {
   "cell_type": "markdown",
   "metadata": {},
   "source": [
    "## 2.4"
   ]
  },
  {
   "cell_type": "markdown",
   "metadata": {},
   "source": [
    "For a stride of 16 (per 2.3), the maximum array size that fits in the cache (64KB per 2.2) has an average reading and writing time of approximately 375ns, while for array sizes that do not fit in the cache this time is consistently around 975ns. As such, we can conclude that the L1 miss penalty time is approximately $975 - 375 = 600ns$."
   ]
  },
  {
   "cell_type": "markdown",
   "metadata": {},
   "source": [
    "## 3.1"
   ]
  },
  {
   "cell_type": "markdown",
   "metadata": {},
   "source": [
    "### 3.1.1"
   ]
  },
  {
   "cell_type": "markdown",
   "metadata": {},
   "source": [
    "#### a)"
   ]
  },
  {
   "cell_type": "markdown",
   "metadata": {},
   "source": [
    "During the program's execution, the analyzed events will be L1 Data Cache misses (PAPI_L1_DCM) - these will be triggered every time data is not found in the L1 cache and it is necessary to access the next level of the memory hierarchy (L2 cache or, if there isn't one, main memory)."
   ]
  },
  {
   "cell_type": "markdown",
   "metadata": {},
   "source": [
    "#### b)"
   ]
  },
  {
   "cell_type": "markdown",
   "metadata": {},
   "source": [
    "Tabela: está em cm1.out, depois vamos lá buscar os valores :fixe3:"
   ]
  },
  {
   "cell_type": "markdown",
   "metadata": {},
   "source": [
    "![Plot](assets/3.1.1-b.png)"
   ]
  },
  {
   "cell_type": "markdown",
   "metadata": {},
   "source": [
    "#### c)"
   ]
  },
  {
   "cell_type": "markdown",
   "metadata": {},
   "source": [
    "##### L1 size:"
   ]
  },
  {
   "cell_type": "markdown",
   "metadata": {},
   "source": [
    "Above 32KB, the average miss rate spikes disproportionally. We can therefore assume that the whole array fit in cache previously (not fitting anymore for 64KB), and that as the array size surpasses that value, the misses start to become overwhelming. As such, we can conclude that the L1 cache size is 32KB."
   ]
  },
  {
   "cell_type": "markdown",
   "metadata": {},
   "source": [
    "##### Block size:"
   ]
  },
  {
   "cell_type": "markdown",
   "metadata": {},
   "source": [
    "The cache block size is 64B, as strides up to 64 show an increasing miss rate, stabilizing at 1 after reaching 64 up to a stride of 1024. As strides represent how many `uint8_t`s we skip and `uint8_t`s take up 1 Byte each, we can infer that we are essentially always loading a new block into cache with a stride of 64 (as the word in question is guaranteed not to be in cache). It can also be noted that for strides of 8, 16 and 32 words, the miss rate also grows from 12.5 to 25 to 50%, effectively doubling the miss rate for each stride increase - e.g., if we jump in groups of 8 words with a 64B block size, we're bound to have to load a new block every 8 times, and so on."
   ]
  },
  {
   "cell_type": "markdown",
   "metadata": {},
   "source": [
    "##### Associativity set size:"
   ]
  },
  {
   "cell_type": "markdown",
   "metadata": {},
   "source": [
    "texto aqui"
   ]
  },
  {
   "cell_type": "markdown",
   "metadata": {},
   "source": [
    "### 3.1.2"
   ]
  },
  {
   "cell_type": "markdown",
   "metadata": {},
   "source": [
    "#### a)"
   ]
  },
  {
   "cell_type": "markdown",
   "metadata": {},
   "source": [
    "We changed both the event being tracked to `PAPI_L2_DCM`, to be able to track L2 Data Cache misses now, and the `CACHE_MIN` and `CACHE_MAX` values, respectively to 64KiB and 1MiB, to be able to track the L2 cache. Do note that the 64KiB value was explicitly chosen as to start exactly one power of 2 above the expected L1 cache size, since the L2 cache is supposed to always be bigger than the L1 cache."
   ]
  },
  {
   "cell_type": "markdown",
   "metadata": {},
   "source": [
    "#### b)"
   ]
  },
  {
   "cell_type": "markdown",
   "metadata": {},
   "source": [
    "![Plot](assets/3.1.2-b.png)"
   ]
  },
  {
   "cell_type": "markdown",
   "metadata": {},
   "source": [
    "#### c)"
   ]
  },
  {
   "cell_type": "markdown",
   "metadata": {},
   "source": [
    "##### L2 size:"
   ]
  },
  {
   "cell_type": "markdown",
   "metadata": {},
   "source": [
    "For the same reasons described in 3.1.1.c)'s L1 cache size section, the L2 cache size seems to be 256KiB, as if array size goes above that, the miss rate spikes to 1: the array doesn't fit in cache as a whole anymore, which leads to misses starting to happen."
   ]
  },
  {
   "cell_type": "markdown",
   "metadata": {},
   "source": [
    "##### Block size:"
   ]
  },
  {
   "cell_type": "markdown",
   "metadata": {},
   "source": [
    "For the same reasons described in 3.1.1.c)'s Block size section, the L2 cache's block size also seems to be 64B, as after a stride size of 64 the miss rate stabilizes at 1."
   ]
  },
  {
   "cell_type": "markdown",
   "metadata": {},
   "source": [
    "##### Associativity set size:"
   ]
  },
  {
   "cell_type": "markdown",
   "metadata": {},
   "source": [
    "texto aqui"
   ]
  },
  {
   "cell_type": "markdown",
   "metadata": {},
   "source": [
    "## 3.2"
   ]
  },
  {
   "cell_type": "markdown",
   "metadata": {},
   "source": [
    "### 3.2.1"
   ]
  },
  {
   "cell_type": "markdown",
   "metadata": {},
   "source": [
    "#### a)"
   ]
  },
  {
   "cell_type": "markdown",
   "metadata": {},
   "source": [
    "We have two $512 \\times 512$ `uint16_t` matrices: as each `unit16_t` occupies 2B, each matrix occupies $512^2 \\times 2 = \\left(2^9\\right)^2 \\times 2 = 2^{19}$ Bytes = $512$ KB, so the two of them combined occupy $2 \\times 2^{19} = 2^{20}$ Bytes, or $1$ MB, in memory."
   ]
  },
  {
   "cell_type": "markdown",
   "metadata": {},
   "source": [
    "#### b)"
   ]
  },
  {
   "cell_type": "markdown",
   "metadata": {},
   "source": [
    "Program output:\n",
    "\n",
    "```\n",
    "After resetting counter 'PAPI_L1_DCM' [x10^6]: 0.000000\n",
    "After resetting counter 'PAPI_LD_INS' [x10^6]: 0.000000\n",
    "After resetting counter 'PAPI_SR_INS' [x10^6]: 0.000000\n",
    "After stopping counter 'PAPI_L1_DCM'  [x10^6]: 134.444855\n",
    "After stopping counter 'PAPI_LD_INS'  [x10^6]: 3491.023749\n",
    "After stopping counter 'PAPI_SR_INS'  [x10^6]: 672.141375\n",
    "Wall clock cycles [x10^6]: 3995.673182\n",
    "Wall clock time [seconds]: 1.177878\n",
    "Matrix checksum: 2717908992\n",
    "```"
   ]
  },
  {
   "cell_type": "markdown",
   "metadata": {},
   "source": [
    "| **Total number of L1 data cache misses**                |  134.444855   | **⨯ 10^6**  |\n",
    "| ------------------------------------------------------- | --- | ----------- |\n",
    "| **Total number of load / store instructions completed** |  3491.023749 + 672.141375  | **⨯ 10^6**  |\n",
    "| **Total number of clock cycles**                        |  3995.673182   | **⨯ 10^6**  |\n",
    "| **Elapsed time**                                        |  1.177878   | **seconds** |\n"
   ]
  },
  {
   "cell_type": "markdown",
   "metadata": {},
   "source": [
    "#### c)"
   ]
  },
  {
   "cell_type": "markdown",
   "metadata": {},
   "source": [
    "$$\n",
    "\\operatorname{HitRate} = 1 - \\operatorname{MissRate} = 1 - \\frac{\\operatorname{Misses}}{\\operatorname{Accesses}} = 1 - \\frac{134.444855}{3491.023749 + 672.141375} = 0.9677\n",
    "$$"
   ]
  },
  {
   "cell_type": "markdown",
   "metadata": {},
   "source": [
    "### 3.2.2"
   ]
  },
  {
   "cell_type": "markdown",
   "metadata": {},
   "source": [
    "#### a)"
   ]
  },
  {
   "cell_type": "markdown",
   "metadata": {},
   "source": [
    "Program output:\n",
    "\n",
    "```\n",
    "After resetting counter 'PAPI_L1_DCM' [x10^6]: 0.000000\n",
    "After resetting counter 'PAPI_LD_INS' [x10^6]: 0.000000\n",
    "After resetting counter 'PAPI_SR_INS' [x10^6]: 0.000000\n",
    "After stopping counter 'PAPI_L1_DCM'  [x10^6]: 4.212926\n",
    "After stopping counter 'PAPI_LD_INS'  [x10^6]: 402.664929\n",
    "After stopping counter 'PAPI_SR_INS'  [x10^6]: 134.217780\n",
    "Wall clock cycles [x10^6]: 744.145336\n",
    "Wall clock time [seconds]: 0.219365\n",
    "Matrix checksum: 2717908992\n",
    "```"
   ]
  },
  {
   "cell_type": "markdown",
   "metadata": {},
   "source": [
    "| **Total number of L1 data cache misses**                |  4.212926   | **⨯ 10^6**  |\n",
    "| ------------------------------------------------------- | --- | ----------- |\n",
    "| **Total number of load / store instructions completed** |  402.664929 + 134.217780   | **⨯ 10^6**  |\n",
    "| **Total number of clock cycles**                        |  744.145336   | **⨯ 10^6**  |\n",
    "| **Elapsed time**                                        |   0.219365  | **seconds** |"
   ]
  },
  {
   "cell_type": "markdown",
   "metadata": {},
   "source": [
    "#### b)"
   ]
  },
  {
   "cell_type": "markdown",
   "metadata": {},
   "source": [
    "$$\n",
    "\\operatorname{HitRate} = 1 - \\operatorname{MissRate} = 1 - \\frac{\\operatorname{Misses}}{\\operatorname{Accesses}} = 1 - \\frac{4.212926}{402.664929 + 134.217780} = 0.99215\n",
    "$$"
   ]
  },
  {
   "cell_type": "markdown",
   "metadata": {},
   "source": [
    "#### c)"
   ]
  },
  {
   "cell_type": "markdown",
   "metadata": {},
   "source": [
    "Program output:\n",
    "\n",
    "```\n",
    "After resetting counter 'PAPI_L1_DCM' [x10^6]: 0.000000\n",
    "After resetting counter 'PAPI_LD_INS' [x10^6]: 0.000000\n",
    "After resetting counter 'PAPI_SR_INS' [x10^6]: 0.000000\n",
    "After stopping counter 'PAPI_L1_DCM'  [x10^6]: 4.484165\n",
    "After stopping counter 'PAPI_LD_INS'  [x10^6]: 402.925461\n",
    "After stopping counter 'PAPI_SR_INS'  [x10^6]: 134.479925\n",
    "Wall clock cycles [x10^6]: 744.901308\n",
    "Wall clock time [seconds]: 0.219588\n",
    "Matrix checksum: 2717908992\n",
    "```"
   ]
  },
  {
   "cell_type": "markdown",
   "metadata": {},
   "source": [
    "| **Total number of L1 data cache misses**                |  4.484165   | **⨯ 10^6**  |\n",
    "| ------------------------------------------------------- | --- | ----------- |\n",
    "| **Total number of load / store instructions completed** |  402.925461 + 134.479925  | **⨯ 10^6**  |\n",
    "| **Total number of clock cycles**                        | 744.901308    | **⨯ 10^6**  |\n",
    "| **Elapsed time**                                        | 0.219588    | **seconds** |\n"
   ]
  },
  {
   "cell_type": "markdown",
   "metadata": {},
   "source": [
    "Even though all values went up, it was only by a slight margin, since the time complexity of matrix transposition (quadratic) is way smaller in comparison with the one associated with the matrix multiplication (cubic)."
   ]
  },
  {
   "cell_type": "markdown",
   "metadata": {},
   "source": [
    "#### d)"
   ]
  },
  {
   "cell_type": "markdown",
   "metadata": {},
   "source": [
    "| **$\\Delta\\text{HitRate} = \\text{HitRate}_{\\text{mm2}} - \\text{HitRate}_{\\text{mm1}}$**         | 0.99215 - 0.9677 = 0.02445 |\n",
    "| ---------------------------------------------------------------------------------------------- | --- |\n",
    "| **$\\text{Speedup(\\#Clocks)} = \\frac{\\text{Clocks}_{\\text{mm1}}}{\\text{Clocks}_{\\text{mm2}}}$** | $\\frac{3995.673182}{744.145336} = 5.369479574$    |\n",
    "| **$\\text{Speedup(Time)} = \\frac{\\text{Time}_{\\text{mm1}}}{\\text{Time}_{\\text{mm2}}}$**         | $\\frac{1.177878}{0.219365} = 5.369489207$    |\n"
   ]
  },
  {
   "cell_type": "markdown",
   "metadata": {},
   "source": [
    "The speedup gained by this second implementation seems to really be worth it, both in terms of clock cycles and time gained."
   ]
  },
  {
   "cell_type": "markdown",
   "metadata": {},
   "source": [
    "### 3.2.3"
   ]
  },
  {
   "cell_type": "markdown",
   "metadata": {},
   "source": [
    "#### a)"
   ]
  },
  {
   "cell_type": "markdown",
   "metadata": {},
   "source": [
    "Each element occupies $2$ Bytes, since they are of type `uint16_t`. Therefore, since each line takes $64$ bytes (considering the value gathered in 3.1), the number of elements per line is $\\frac{64}{2} = 32$."
   ]
  },
  {
   "cell_type": "markdown",
   "metadata": {},
   "source": [
    "#### b)"
   ]
  },
  {
   "cell_type": "markdown",
   "metadata": {},
   "source": [
    "Program output:\n",
    "\n",
    "```\n",
    "After resetting counter 'PAPI_L1_DCM' [x10^6]: 0.000000\n",
    "After resetting counter 'PAPI_LD_INS' [x10^6]: 0.000000\n",
    "After resetting counter 'PAPI_SR_INS' [x10^6]: 0.000000\n",
    "After stopping counter 'PAPI_L1_DCM'  [x10^6]: 5.810141\n",
    "After stopping counter 'PAPI_LD_INS'  [x10^6]: 402.802696\n",
    "After stopping counter 'PAPI_SR_INS'  [x10^6]: 134.222203\n",
    "Wall clock cycles [x10^6]: 397.765652\n",
    "Wall clock time [seconds]: 0.117256\n",
    "Matrix checksum: 2717908992\n",
    "```"
   ]
  },
  {
   "cell_type": "markdown",
   "metadata": {},
   "source": [
    "| **Total number of L1 data cache misses**                |  5.810141   | **⨯ 10^6**  |\n",
    "| ------------------------------------------------------- | --- | ----------- |\n",
    "| **Total number of load / store instructions completed** |  402.802696 + 134.217780   | **⨯ 10^6**  |\n",
    "| **Total number of clock cycles**                        | 397.765652   | **⨯ 10^6**  |\n",
    "| **Elapsed time**                                        |  0.117256   | **seconds** |\n"
   ]
  },
  {
   "cell_type": "markdown",
   "metadata": {},
   "source": [
    "#### c)"
   ]
  },
  {
   "cell_type": "markdown",
   "metadata": {},
   "source": [
    "$$\n",
    "\\operatorname{HitRate} = 1 - \\operatorname{MissRate} = 1 - \\frac{\\operatorname{Misses}}{\\operatorname{Accesses}} = 1 - \\frac{5.810141}{402.802696 + 134.217780} = 0.9891807831\n",
    "$$"
   ]
  },
  {
   "cell_type": "markdown",
   "metadata": {},
   "source": [
    "#### d)"
   ]
  },
  {
   "cell_type": "markdown",
   "metadata": {},
   "source": [
    "| **$\\Delta\\text{HitRate} = \\text{HitRate}_{\\text{mm3}} - \\text{HitRate}_{\\text{mm1}}$**         |  0.9891807831 - 0.9677 = 0.0214807831  |\n",
    "| ---------------------------------------------------------------------------------------------- | --- |\n",
    "| **$\\text{Speedup(\\#Clocks)} = \\frac{\\text{Clocks}_{\\text{mm1}}}{\\text{Clocks}_{\\text{mm3}}}$** |  $\\frac{3995.673182}{397.765652} = 10.04529467$   |\n"
   ]
  },
  {
   "cell_type": "markdown",
   "metadata": {},
   "source": [
    "This new implementation, exploring the spacial locality of the matrix, is way more efficient than the original, \"naive\" one, leading to a speedup of around $10$ times"
   ]
  },
  {
   "cell_type": "markdown",
   "metadata": {},
   "source": [
    "#### e)"
   ]
  },
  {
   "cell_type": "markdown",
   "metadata": {},
   "source": [
    "| **$\\Delta\\text{HitRate} = \\text{HitRate}_{\\text{mm3}} - \\text{HitRate}_{\\text{mm2}}$**         |  0.9891807831 - 0.99215 = −0.0029692169  |\n",
    "| ---------------------------------------------------------------------------------------------- | --- |\n",
    "| **$\\text{Speedup(\\#Clocks)} = \\frac{\\text{Clocks}_{\\text{mm2}}}{\\text{Clocks}_{\\text{mm3}}}$** | $\\frac{744.145336}{397.765652} = 1.870813461$    |\n"
   ]
  },
  {
   "cell_type": "markdown",
   "metadata": {},
   "source": [
    "This new implementation ends up being a level above the transposition one, by a factor of about 1.87 times - it shows that, here, exploring the cache's spacial locality is more efficient than relying on a supposed algorithmic advantage, which might not even work well for very large matrixes.\n",
    "\n",
    "We also, just as the question's statement suggested, went and tested the L2 miss events for both programs:\n",
    "\n",
    "- for the transposition one, we found 4.473961 L2 misses;\n",
    "- for the last one, we 0.471593 L2 misses.\n",
    "\n",
    "This is crucial for the program's efficiency, since going up a level in the cache, be it L3 or memory, is very costly (in comparison with L1 and L2)."
   ]
  },
  {
   "cell_type": "markdown",
   "metadata": {},
   "source": [
    "### 3.2.3"
   ]
  },
  {
   "cell_type": "markdown",
   "metadata": {},
   "source": [
    "After running the `lscpu` utility on the `lap7p2` machine (and seeing the CPU's specification - an Intel i5-3570 CPU), we asserted that the L1's size is of 2*128KB for the whole processor - one data cache and one instruction cache for each of the four cores, therefore making it a 32KB cache per-core, per type of cache, just as expected. Moreover, the L2's expected size also matches the experimentally attained one - `lscpu` returns an L2 cache size of 1MB, so 256KB per core, just as expected."
   ]
  }
 ],
 "metadata": {
  "kernelspec": {
   "display_name": "Python 3.10.7 64-bit",
   "language": "python",
   "name": "python3"
  },
  "language_info": {
   "codemirror_mode": {
    "name": "ipython",
    "version": 3
   },
   "file_extension": ".py",
   "mimetype": "text/x-python",
   "name": "python",
   "nbconvert_exporter": "python",
   "pygments_lexer": "ipython3",
   "version": "3.10.7"
  },
  "orig_nbformat": 4,
  "vscode": {
   "interpreter": {
    "hash": "e7370f93d1d0cde622a1f8e1c04877d8463912d04d973331ad4851f04de6915a"
   }
  }
 },
 "nbformat": 4,
 "nbformat_minor": 2
}
